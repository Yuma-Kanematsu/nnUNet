{
 "cells": [
  {
   "cell_type": "code",
   "execution_count": 2,
   "metadata": {},
   "outputs": [],
   "source": [
    "import os\n",
    "import numpy as np\n",
    "import pandas as pd\n",
    "import torch\n",
    "import matplotlib.pyplot as plt\n",
    "from batchgenerators.utilities.file_and_folder_operations import join\n",
    "from nnunetv2.inference.predict_from_raw_data import nnUNetPredictor\n",
    "from PIL import Image, ImageFile\n",
    "from psd_tools import PSDImage\n",
    "import csv\n",
    "import re\n",
    "\n",
    "import warnings\n",
    "warnings.filterwarnings(\"ignore\", category=UserWarning, module=\"psd_tools\") # PSDToolsの警告を無視\n",
    "warnings.filterwarnings(\"ignore\", message=\"No label manager specified in plans\") # nnUNetの警告を無視"
   ]
  },
  {
   "cell_type": "code",
   "execution_count": 45,
   "metadata": {},
   "outputs": [
    {
     "name": "stdout",
     "output_type": "stream",
     "text": [
      "推論を開始します...\n",
      "perform_everything_on_device=True is only supported for cuda devices! Setting this to False\n",
      "There are 19 cases in the source folder\n",
      "I am process 0 out of 1 (max process ID is 0, we start counting with 0!)\n",
      "There are 19 cases that I would like to predict\n",
      "\n",
      "Predicting 6870292_16_R_FLOOR-2:\n",
      "perform_everything_on_device: False\n"
     ]
    },
    {
     "name": "stderr",
     "output_type": "stream",
     "text": [
      "100%|██████████| 2/2 [00:00<00:00,  7.80it/s]\n"
     ]
    },
    {
     "name": "stdout",
     "output_type": "stream",
     "text": [
      "sending off prediction to background worker for resampling and export\n",
      "done with 6870292_16_R_FLOOR-2\n",
      "\n",
      "Predicting 6870292_19_R_FLOOR-3:\n",
      "perform_everything_on_device: False\n"
     ]
    },
    {
     "name": "stderr",
     "output_type": "stream",
     "text": [
      "100%|██████████| 2/2 [00:00<00:00,  9.01it/s]\n"
     ]
    },
    {
     "name": "stdout",
     "output_type": "stream",
     "text": [
      "sending off prediction to background worker for resampling and export\n",
      "done with 6870292_19_R_FLOOR-3\n",
      "\n",
      "Predicting 6870292_20_R_FLOOR-3:\n",
      "perform_everything_on_device: False\n"
     ]
    },
    {
     "name": "stderr",
     "output_type": "stream",
     "text": [
      "100%|██████████| 2/2 [00:00<00:00,  9.06it/s]\n"
     ]
    },
    {
     "name": "stdout",
     "output_type": "stream",
     "text": [
      "sending off prediction to background worker for resampling and export\n",
      "done with 6870292_20_R_FLOOR-3\n",
      "\n",
      "Predicting 6870292_21_R_FLOOR-3:\n",
      "perform_everything_on_device: False\n"
     ]
    },
    {
     "name": "stderr",
     "output_type": "stream",
     "text": [
      "100%|██████████| 2/2 [00:00<00:00,  9.20it/s]\n"
     ]
    },
    {
     "name": "stdout",
     "output_type": "stream",
     "text": [
      "sending off prediction to background worker for resampling and export\n",
      "done with 6870292_21_R_FLOOR-3\n",
      "\n",
      "Predicting 6870292_22_R_FLOOR-3:\n",
      "perform_everything_on_device: False\n"
     ]
    },
    {
     "name": "stderr",
     "output_type": "stream",
     "text": [
      "100%|██████████| 2/2 [00:00<00:00,  9.10it/s]\n"
     ]
    },
    {
     "name": "stdout",
     "output_type": "stream",
     "text": [
      "sending off prediction to background worker for resampling and export\n",
      "done with 6870292_22_R_FLOOR-3\n",
      "\n",
      "Predicting 6870292_23_R_FLOOR-3:\n",
      "perform_everything_on_device: False\n"
     ]
    },
    {
     "name": "stderr",
     "output_type": "stream",
     "text": [
      "100%|██████████| 2/2 [00:00<00:00,  9.13it/s]\n"
     ]
    },
    {
     "name": "stdout",
     "output_type": "stream",
     "text": [
      "sending off prediction to background worker for resampling and export\n",
      "done with 6870292_23_R_FLOOR-3\n",
      "\n",
      "Predicting 6887036_12_L_FLOOR-2:\n",
      "perform_everything_on_device: False\n"
     ]
    },
    {
     "name": "stderr",
     "output_type": "stream",
     "text": [
      "100%|██████████| 3/3 [00:00<00:00,  9.06it/s]\n"
     ]
    },
    {
     "name": "stdout",
     "output_type": "stream",
     "text": [
      "sending off prediction to background worker for resampling and export\n",
      "done with 6887036_12_L_FLOOR-2\n",
      "\n",
      "Predicting 6887036_13_L_FLOOR-3:\n",
      "perform_everything_on_device: False\n"
     ]
    },
    {
     "name": "stderr",
     "output_type": "stream",
     "text": [
      "100%|██████████| 3/3 [00:00<00:00,  9.19it/s]\n"
     ]
    },
    {
     "name": "stdout",
     "output_type": "stream",
     "text": [
      "sending off prediction to background worker for resampling and export\n",
      "done with 6887036_13_L_FLOOR-3\n",
      "\n",
      "Predicting 6887036_14_L_FLOOR-3:\n",
      "perform_everything_on_device: False\n"
     ]
    },
    {
     "name": "stderr",
     "output_type": "stream",
     "text": [
      "100%|██████████| 3/3 [00:00<00:00,  9.13it/s]\n"
     ]
    },
    {
     "name": "stdout",
     "output_type": "stream",
     "text": [
      "sending off prediction to background worker for resampling and export\n",
      "done with 6887036_14_L_FLOOR-3\n",
      "\n",
      "Predicting 6887036_15_L_FLOOR-3:\n",
      "perform_everything_on_device: False\n"
     ]
    },
    {
     "name": "stderr",
     "output_type": "stream",
     "text": [
      "100%|██████████| 3/3 [00:00<00:00,  9.14it/s]\n"
     ]
    },
    {
     "name": "stdout",
     "output_type": "stream",
     "text": [
      "sending off prediction to background worker for resampling and export\n",
      "done with 6887036_15_L_FLOOR-3\n",
      "\n",
      "Predicting 6887036_16_L_FLOOR-3:\n",
      "perform_everything_on_device: False\n"
     ]
    },
    {
     "name": "stderr",
     "output_type": "stream",
     "text": [
      "100%|██████████| 3/3 [00:00<00:00,  9.15it/s]\n"
     ]
    },
    {
     "name": "stdout",
     "output_type": "stream",
     "text": [
      "sending off prediction to background worker for resampling and export\n",
      "done with 6887036_16_L_FLOOR-3\n",
      "\n",
      "Predicting 6887036_17_L_FLOOR-2:\n",
      "perform_everything_on_device: False\n"
     ]
    },
    {
     "name": "stderr",
     "output_type": "stream",
     "text": [
      "100%|██████████| 3/3 [00:00<00:00,  9.15it/s]\n"
     ]
    },
    {
     "name": "stdout",
     "output_type": "stream",
     "text": [
      "sending off prediction to background worker for resampling and export\n",
      "done with 6887036_17_L_FLOOR-2\n",
      "\n",
      "Predicting 6955010_18_R_FLOOR-2:\n",
      "perform_everything_on_device: False\n"
     ]
    },
    {
     "name": "stderr",
     "output_type": "stream",
     "text": [
      "100%|██████████| 3/3 [00:00<00:00,  9.08it/s]\n"
     ]
    },
    {
     "name": "stdout",
     "output_type": "stream",
     "text": [
      "sending off prediction to background worker for resampling and export\n",
      "done with 6955010_18_R_FLOOR-2\n",
      "\n",
      "Predicting 6955010_19_R_FLOOR-3:\n",
      "perform_everything_on_device: False\n"
     ]
    },
    {
     "name": "stderr",
     "output_type": "stream",
     "text": [
      "100%|██████████| 3/3 [00:00<00:00,  9.19it/s]\n"
     ]
    },
    {
     "name": "stdout",
     "output_type": "stream",
     "text": [
      "sending off prediction to background worker for resampling and export\n",
      "done with 6955010_19_R_FLOOR-3\n",
      "\n",
      "Predicting 6955010_20_R_FLOOR-3:\n",
      "perform_everything_on_device: False\n"
     ]
    },
    {
     "name": "stderr",
     "output_type": "stream",
     "text": [
      "100%|██████████| 3/3 [00:00<00:00,  9.14it/s]\n"
     ]
    },
    {
     "name": "stdout",
     "output_type": "stream",
     "text": [
      "sending off prediction to background worker for resampling and export\n",
      "done with 6955010_20_R_FLOOR-3\n",
      "\n",
      "Predicting 6955010_21_R_FLOOR-3:\n",
      "perform_everything_on_device: False\n"
     ]
    },
    {
     "name": "stderr",
     "output_type": "stream",
     "text": [
      "100%|██████████| 3/3 [00:00<00:00,  9.14it/s]\n"
     ]
    },
    {
     "name": "stdout",
     "output_type": "stream",
     "text": [
      "sending off prediction to background worker for resampling and export\n",
      "done with 6955010_21_R_FLOOR-3\n",
      "\n",
      "Predicting 6955010_22_R_FLOOR-3:\n",
      "perform_everything_on_device: False\n"
     ]
    },
    {
     "name": "stderr",
     "output_type": "stream",
     "text": [
      "100%|██████████| 3/3 [00:00<00:00,  9.01it/s]\n"
     ]
    },
    {
     "name": "stdout",
     "output_type": "stream",
     "text": [
      "sending off prediction to background worker for resampling and export\n",
      "done with 6955010_22_R_FLOOR-3\n",
      "\n",
      "Predicting 6955010_23_R_FLOOR-3:\n",
      "perform_everything_on_device: False\n"
     ]
    },
    {
     "name": "stderr",
     "output_type": "stream",
     "text": [
      "100%|██████████| 3/3 [00:00<00:00,  8.98it/s]\n"
     ]
    },
    {
     "name": "stdout",
     "output_type": "stream",
     "text": [
      "sending off prediction to background worker for resampling and export\n",
      "done with 6955010_23_R_FLOOR-3\n",
      "\n",
      "Predicting 6955010_24_R_FLOOR-3:\n",
      "perform_everything_on_device: False\n"
     ]
    },
    {
     "name": "stderr",
     "output_type": "stream",
     "text": [
      "100%|██████████| 3/3 [00:00<00:00,  9.06it/s]\n",
      "Unknown image resource 1092\n",
      "Unknown key: b'CAI '\n",
      "Unknown tagged block: b'CAI ', b'\\x00\\x00\\x00\\x03\\x00\\x00\\x00\\x10\\x00\\x00\\x00\\x01\\x00\\x00\\x00\\x00 ... =77'\n",
      "Unknown key: b'OCIO'\n",
      "Unknown tagged block: b'OCIO', b'\\x00\\x00\\x00\\x10\\x00\\x00\\x00\\x01\\x00\\x00\\x00\\x00\\x00\\x1bdo ... =170'\n",
      "Unknown key: b'GenI'\n",
      "Unknown tagged block: b'GenI', b'\\x00\\x00\\x00\\x10\\x00\\x00\\x00\\x01\\x00\\x00\\x00\\x00\\x00\\x0bge ... =84'\n"
     ]
    },
    {
     "name": "stdout",
     "output_type": "stream",
     "text": [
      "sending off prediction to background worker for resampling and export\n",
      "done with 6955010_24_R_FLOOR-3\n",
      "推論が完了しました。\n",
      "評価と可視化を開始します...\n",
      "代替のPSDファイルが見つかりました: 6870292_20_R_FLOOR-3.psd\n",
      "PSDファイルを読み込みました: /Users/yuma/Yuma-Kanematsu/nnUNet/src/raw_data/Dataset004_Orbital_same_testdata/imagesTs/6870292_20_R_FLOOR-3.psd\n",
      "PSD画像配列形状: (512, 512, 4), 型: uint8\n",
      "RGBAフォーマットを処理中\n",
      "予測マスクの値範囲: 0 〜 1\n",
      "正解マスクの値範囲: 0 〜 1\n",
      "Intersection: 2256, Union: 3003\n",
      "予測マスクの陽性ピクセル数: 2733\n",
      "正解マスクの陽性ピクセル数: 2526\n",
      "処理完了: 6870292_20_R_FLOOR-3.png, Dice: 0.8580, IoU: 0.7512, Accuracy: 0.9972, Precision: 0.8255, Recall: 0.8931\n"
     ]
    },
    {
     "name": "stderr",
     "output_type": "stream",
     "text": [
      "Unknown image resource 1092\n",
      "Unknown key: b'CAI '\n",
      "Unknown tagged block: b'CAI ', b'\\x00\\x00\\x00\\x03\\x00\\x00\\x00\\x10\\x00\\x00\\x00\\x01\\x00\\x00\\x00\\x00 ... =77'\n",
      "Unknown key: b'OCIO'\n",
      "Unknown tagged block: b'OCIO', b'\\x00\\x00\\x00\\x10\\x00\\x00\\x00\\x01\\x00\\x00\\x00\\x00\\x00\\x1bdo ... =170'\n",
      "Unknown key: b'GenI'\n",
      "Unknown tagged block: b'GenI', b'\\x00\\x00\\x00\\x10\\x00\\x00\\x00\\x01\\x00\\x00\\x00\\x00\\x00\\x0bge ... =84'\n"
     ]
    },
    {
     "name": "stdout",
     "output_type": "stream",
     "text": [
      "可視化画像を保存しました: /Users/yuma/Yuma-Kanematsu/nnUNet/src/results/250419_inference/visualizations/6870292_20_visualization.png\n",
      "代替のPSDファイルが見つかりました: 6870292_19_R_FLOOR-3.psd\n",
      "PSDファイルを読み込みました: /Users/yuma/Yuma-Kanematsu/nnUNet/src/raw_data/Dataset004_Orbital_same_testdata/imagesTs/6870292_19_R_FLOOR-3.psd\n",
      "PSD画像配列形状: (512, 512, 4), 型: uint8\n",
      "RGBAフォーマットを処理中\n",
      "予測マスクの値範囲: 0 〜 1\n",
      "正解マスクの値範囲: 0 〜 1\n",
      "Intersection: 2189, Union: 3127\n",
      "予測マスクの陽性ピクセル数: 2968\n",
      "正解マスクの陽性ピクセル数: 2348\n",
      "処理完了: 6870292_19_R_FLOOR-3.png, Dice: 0.8236, IoU: 0.7000, Accuracy: 0.9964, Precision: 0.7375, Recall: 0.9323\n"
     ]
    },
    {
     "name": "stderr",
     "output_type": "stream",
     "text": [
      "Unknown image resource 1092\n",
      "Unknown key: b'CAI '\n",
      "Unknown tagged block: b'CAI ', b'\\x00\\x00\\x00\\x03\\x00\\x00\\x00\\x10\\x00\\x00\\x00\\x01\\x00\\x00\\x00\\x00 ... =77'\n",
      "Unknown key: b'OCIO'\n",
      "Unknown tagged block: b'OCIO', b'\\x00\\x00\\x00\\x10\\x00\\x00\\x00\\x01\\x00\\x00\\x00\\x00\\x00\\x1bdo ... =170'\n",
      "Unknown key: b'GenI'\n",
      "Unknown tagged block: b'GenI', b'\\x00\\x00\\x00\\x10\\x00\\x00\\x00\\x01\\x00\\x00\\x00\\x00\\x00\\x0bge ... =84'\n"
     ]
    },
    {
     "name": "stdout",
     "output_type": "stream",
     "text": [
      "可視化画像を保存しました: /Users/yuma/Yuma-Kanematsu/nnUNet/src/results/250419_inference/visualizations/6870292_19_visualization.png\n",
      "代替のPSDファイルが見つかりました: 6870292_23_R_FLOOR-3.psd\n",
      "PSDファイルを読み込みました: /Users/yuma/Yuma-Kanematsu/nnUNet/src/raw_data/Dataset004_Orbital_same_testdata/imagesTs/6870292_23_R_FLOOR-3.psd\n",
      "PSD画像配列形状: (512, 512, 4), 型: uint8\n",
      "RGBAフォーマットを処理中\n",
      "予測マスクの値範囲: 0 〜 1\n",
      "正解マスクの値範囲: 0 〜 1\n",
      "Intersection: 1332, Union: 2004\n",
      "予測マスクの陽性ピクセル数: 1645\n",
      "正解マスクの陽性ピクセル数: 1691\n",
      "処理完了: 6870292_23_R_FLOOR-3.png, Dice: 0.7986, IoU: 0.6647, Accuracy: 0.9974, Precision: 0.8097, Recall: 0.7877\n"
     ]
    },
    {
     "name": "stderr",
     "output_type": "stream",
     "text": [
      "Unknown image resource 1092\n",
      "Unknown key: b'CAI '\n",
      "Unknown tagged block: b'CAI ', b'\\x00\\x00\\x00\\x03\\x00\\x00\\x00\\x10\\x00\\x00\\x00\\x01\\x00\\x00\\x00\\x00 ... =77'\n",
      "Unknown key: b'OCIO'\n",
      "Unknown tagged block: b'OCIO', b'\\x00\\x00\\x00\\x10\\x00\\x00\\x00\\x01\\x00\\x00\\x00\\x00\\x00\\x1bdo ... =170'\n",
      "Unknown key: b'GenI'\n",
      "Unknown tagged block: b'GenI', b'\\x00\\x00\\x00\\x10\\x00\\x00\\x00\\x01\\x00\\x00\\x00\\x00\\x00\\x0bge ... =84'\n"
     ]
    },
    {
     "name": "stdout",
     "output_type": "stream",
     "text": [
      "可視化画像を保存しました: /Users/yuma/Yuma-Kanematsu/nnUNet/src/results/250419_inference/visualizations/6870292_23_visualization.png\n",
      "代替のPSDファイルが見つかりました: 6887036_15_L_FLOOR-3.psd\n",
      "PSDファイルを読み込みました: /Users/yuma/Yuma-Kanematsu/nnUNet/src/raw_data/Dataset004_Orbital_same_testdata/imagesTs/6887036_15_L_FLOOR-3.psd\n",
      "PSD画像配列形状: (512, 512, 4), 型: uint8\n",
      "RGBAフォーマットを処理中\n",
      "予測マスクの値範囲: 0 〜 1\n",
      "正解マスクの値範囲: 0 〜 1\n",
      "Intersection: 1947, Union: 2651\n",
      "予測マスクの陽性ピクセル数: 2184\n",
      "正解マスクの陽性ピクセル数: 2414\n",
      "処理完了: 6887036_15_L_FLOOR-3.png, Dice: 0.8469, IoU: 0.7344, Accuracy: 0.9973, Precision: 0.8915, Recall: 0.8065\n"
     ]
    },
    {
     "name": "stderr",
     "output_type": "stream",
     "text": [
      "Unknown image resource 1092\n",
      "Unknown key: b'CAI '\n",
      "Unknown tagged block: b'CAI ', b'\\x00\\x00\\x00\\x03\\x00\\x00\\x00\\x10\\x00\\x00\\x00\\x01\\x00\\x00\\x00\\x00 ... =77'\n",
      "Unknown key: b'OCIO'\n",
      "Unknown tagged block: b'OCIO', b'\\x00\\x00\\x00\\x10\\x00\\x00\\x00\\x01\\x00\\x00\\x00\\x00\\x00\\x1bdo ... =170'\n",
      "Unknown key: b'GenI'\n",
      "Unknown tagged block: b'GenI', b'\\x00\\x00\\x00\\x10\\x00\\x00\\x00\\x01\\x00\\x00\\x00\\x00\\x00\\x0bge ... =84'\n"
     ]
    },
    {
     "name": "stdout",
     "output_type": "stream",
     "text": [
      "可視化画像を保存しました: /Users/yuma/Yuma-Kanematsu/nnUNet/src/results/250419_inference/visualizations/6887036_15_visualization.png\n",
      "代替のPSDファイルが見つかりました: 6955010_22_R_FLOOR-3.psd\n",
      "PSDファイルを読み込みました: /Users/yuma/Yuma-Kanematsu/nnUNet/src/raw_data/Dataset004_Orbital_same_testdata/imagesTs/6955010_22_R_FLOOR-3.psd\n",
      "PSD画像配列形状: (512, 512, 4), 型: uint8\n",
      "RGBAフォーマットを処理中\n",
      "予測マスクの値範囲: 0 〜 1\n",
      "正解マスクの値範囲: 0 〜 1\n",
      "Intersection: 1439, Union: 2041\n",
      "予測マスクの陽性ピクセル数: 1729\n",
      "正解マスクの陽性ピクセル数: 1751\n",
      "処理完了: 6955010_22_R_FLOOR-3.png, Dice: 0.8270, IoU: 0.7050, Accuracy: 0.9977, Precision: 0.8323, Recall: 0.8218\n"
     ]
    },
    {
     "name": "stderr",
     "output_type": "stream",
     "text": [
      "Unknown image resource 1092\n",
      "Unknown key: b'CAI '\n",
      "Unknown tagged block: b'CAI ', b'\\x00\\x00\\x00\\x03\\x00\\x00\\x00\\x10\\x00\\x00\\x00\\x01\\x00\\x00\\x00\\x00 ... =77'\n",
      "Unknown key: b'OCIO'\n",
      "Unknown tagged block: b'OCIO', b'\\x00\\x00\\x00\\x10\\x00\\x00\\x00\\x01\\x00\\x00\\x00\\x00\\x00\\x1bdo ... =170'\n",
      "Unknown key: b'GenI'\n",
      "Unknown tagged block: b'GenI', b'\\x00\\x00\\x00\\x10\\x00\\x00\\x00\\x01\\x00\\x00\\x00\\x00\\x00\\x0bge ... =84'\n"
     ]
    },
    {
     "name": "stdout",
     "output_type": "stream",
     "text": [
      "可視化画像を保存しました: /Users/yuma/Yuma-Kanematsu/nnUNet/src/results/250419_inference/visualizations/6955010_22_visualization.png\n",
      "代替のPSDファイルが見つかりました: 6955010_18_R_FLOOR-2.psd\n",
      "PSDファイルを読み込みました: /Users/yuma/Yuma-Kanematsu/nnUNet/src/raw_data/Dataset004_Orbital_same_testdata/imagesTs/6955010_18_R_FLOOR-2.psd\n",
      "PSD画像配列形状: (512, 512, 4), 型: uint8\n",
      "RGBAフォーマットを処理中\n",
      "予測マスクの値範囲: 0 〜 1\n",
      "正解マスクの値範囲: 0 〜 1\n",
      "Intersection: 1657, Union: 2220\n",
      "予測マスクの陽性ピクセル数: 1850\n",
      "正解マスクの陽性ピクセル数: 2027\n",
      "処理完了: 6955010_18_R_FLOOR-2.png, Dice: 0.8548, IoU: 0.7464, Accuracy: 0.9979, Precision: 0.8957, Recall: 0.8175\n"
     ]
    },
    {
     "name": "stderr",
     "output_type": "stream",
     "text": [
      "Unknown image resource 1092\n",
      "Unknown key: b'CAI '\n",
      "Unknown tagged block: b'CAI ', b'\\x00\\x00\\x00\\x03\\x00\\x00\\x00\\x10\\x00\\x00\\x00\\x01\\x00\\x00\\x00\\x00 ... =77'\n",
      "Unknown key: b'OCIO'\n",
      "Unknown tagged block: b'OCIO', b'\\x00\\x00\\x00\\x10\\x00\\x00\\x00\\x01\\x00\\x00\\x00\\x00\\x00\\x1bdo ... =170'\n",
      "Unknown key: b'GenI'\n",
      "Unknown tagged block: b'GenI', b'\\x00\\x00\\x00\\x10\\x00\\x00\\x00\\x01\\x00\\x00\\x00\\x00\\x00\\x0bge ... =84'\n"
     ]
    },
    {
     "name": "stdout",
     "output_type": "stream",
     "text": [
      "可視化画像を保存しました: /Users/yuma/Yuma-Kanematsu/nnUNet/src/results/250419_inference/visualizations/6955010_18_visualization.png\n",
      "代替のPSDファイルが見つかりました: 6955010_21_R_FLOOR-3.psd\n",
      "PSDファイルを読み込みました: /Users/yuma/Yuma-Kanematsu/nnUNet/src/raw_data/Dataset004_Orbital_same_testdata/imagesTs/6955010_21_R_FLOOR-3.psd\n",
      "PSD画像配列形状: (512, 512, 4), 型: uint8\n",
      "RGBAフォーマットを処理中\n",
      "予測マスクの値範囲: 0 〜 1\n",
      "正解マスクの値範囲: 0 〜 1\n",
      "Intersection: 1560, Union: 2129\n",
      "予測マスクの陽性ピクセル数: 1834\n",
      "正解マスクの陽性ピクセル数: 1855\n",
      "処理完了: 6955010_21_R_FLOOR-3.png, Dice: 0.8458, IoU: 0.7327, Accuracy: 0.9978, Precision: 0.8506, Recall: 0.8410\n"
     ]
    },
    {
     "name": "stderr",
     "output_type": "stream",
     "text": [
      "Unknown image resource 1092\n",
      "Unknown key: b'CAI '\n",
      "Unknown tagged block: b'CAI ', b'\\x00\\x00\\x00\\x03\\x00\\x00\\x00\\x10\\x00\\x00\\x00\\x01\\x00\\x00\\x00\\x00 ... =77'\n",
      "Unknown key: b'OCIO'\n",
      "Unknown tagged block: b'OCIO', b'\\x00\\x00\\x00\\x10\\x00\\x00\\x00\\x01\\x00\\x00\\x00\\x00\\x00\\x1bdo ... =170'\n",
      "Unknown key: b'GenI'\n",
      "Unknown tagged block: b'GenI', b'\\x00\\x00\\x00\\x10\\x00\\x00\\x00\\x01\\x00\\x00\\x00\\x00\\x00\\x0bge ... =84'\n"
     ]
    },
    {
     "name": "stdout",
     "output_type": "stream",
     "text": [
      "可視化画像を保存しました: /Users/yuma/Yuma-Kanematsu/nnUNet/src/results/250419_inference/visualizations/6955010_21_visualization.png\n",
      "代替のPSDファイルが見つかりました: 6887036_16_L_FLOOR-3.psd\n",
      "PSDファイルを読み込みました: /Users/yuma/Yuma-Kanematsu/nnUNet/src/raw_data/Dataset004_Orbital_same_testdata/imagesTs/6887036_16_L_FLOOR-3.psd\n",
      "PSD画像配列形状: (512, 512, 4), 型: uint8\n",
      "RGBAフォーマットを処理中\n",
      "予測マスクの値範囲: 0 〜 1\n",
      "正解マスクの値範囲: 0 〜 1\n",
      "Intersection: 1790, Union: 2493\n",
      "予測マスクの陽性ピクセル数: 1891\n",
      "正解マスクの陽性ピクセル数: 2392\n",
      "処理完了: 6887036_16_L_FLOOR-3.png, Dice: 0.8359, IoU: 0.7180, Accuracy: 0.9973, Precision: 0.9466, Recall: 0.7483\n"
     ]
    },
    {
     "name": "stderr",
     "output_type": "stream",
     "text": [
      "Unknown image resource 1092\n",
      "Unknown key: b'CAI '\n",
      "Unknown tagged block: b'CAI ', b'\\x00\\x00\\x00\\x03\\x00\\x00\\x00\\x10\\x00\\x00\\x00\\x01\\x00\\x00\\x00\\x00 ... =77'\n",
      "Unknown key: b'OCIO'\n",
      "Unknown tagged block: b'OCIO', b'\\x00\\x00\\x00\\x10\\x00\\x00\\x00\\x01\\x00\\x00\\x00\\x00\\x00\\x1bdo ... =170'\n",
      "Unknown key: b'GenI'\n",
      "Unknown tagged block: b'GenI', b'\\x00\\x00\\x00\\x10\\x00\\x00\\x00\\x01\\x00\\x00\\x00\\x00\\x00\\x0bge ... =84'\n"
     ]
    },
    {
     "name": "stdout",
     "output_type": "stream",
     "text": [
      "可視化画像を保存しました: /Users/yuma/Yuma-Kanematsu/nnUNet/src/results/250419_inference/visualizations/6887036_16_visualization.png\n",
      "代替のPSDファイルが見つかりました: 6887036_12_L_FLOOR-2.psd\n",
      "PSDファイルを読み込みました: /Users/yuma/Yuma-Kanematsu/nnUNet/src/raw_data/Dataset004_Orbital_same_testdata/imagesTs/6887036_12_L_FLOOR-2.psd\n",
      "PSD画像配列形状: (512, 512, 4), 型: uint8\n",
      "RGBAフォーマットを処理中\n",
      "予測マスクの値範囲: 0 〜 1\n",
      "正解マスクの値範囲: 0 〜 1\n",
      "Intersection: 1402, Union: 2522\n",
      "予測マスクの陽性ピクセル数: 2173\n",
      "正解マスクの陽性ピクセル数: 1751\n",
      "処理完了: 6887036_12_L_FLOOR-2.png, Dice: 0.7146, IoU: 0.5559, Accuracy: 0.9957, Precision: 0.6452, Recall: 0.8007\n"
     ]
    },
    {
     "name": "stderr",
     "output_type": "stream",
     "text": [
      "Unknown image resource 1092\n",
      "Unknown key: b'CAI '\n",
      "Unknown tagged block: b'CAI ', b'\\x00\\x00\\x00\\x03\\x00\\x00\\x00\\x10\\x00\\x00\\x00\\x01\\x00\\x00\\x00\\x00 ... =77'\n",
      "Unknown key: b'OCIO'\n",
      "Unknown tagged block: b'OCIO', b'\\x00\\x00\\x00\\x10\\x00\\x00\\x00\\x01\\x00\\x00\\x00\\x00\\x00\\x1bdo ... =170'\n",
      "Unknown key: b'GenI'\n",
      "Unknown tagged block: b'GenI', b'\\x00\\x00\\x00\\x10\\x00\\x00\\x00\\x01\\x00\\x00\\x00\\x00\\x00\\x0bge ... =84'\n"
     ]
    },
    {
     "name": "stdout",
     "output_type": "stream",
     "text": [
      "可視化画像を保存しました: /Users/yuma/Yuma-Kanematsu/nnUNet/src/results/250419_inference/visualizations/6887036_12_visualization.png\n",
      "代替のPSDファイルが見つかりました: 6955010_19_R_FLOOR-3.psd\n",
      "PSDファイルを読み込みました: /Users/yuma/Yuma-Kanematsu/nnUNet/src/raw_data/Dataset004_Orbital_same_testdata/imagesTs/6955010_19_R_FLOOR-3.psd\n",
      "PSD画像配列形状: (512, 512, 4), 型: uint8\n",
      "RGBAフォーマットを処理中\n",
      "予測マスクの値範囲: 0 〜 1\n",
      "正解マスクの値範囲: 0 〜 1\n",
      "Intersection: 1623, Union: 2300\n",
      "予測マスクの陽性ピクセル数: 1862\n",
      "正解マスクの陽性ピクセル数: 2061\n",
      "処理完了: 6955010_19_R_FLOOR-3.png, Dice: 0.8274, IoU: 0.7057, Accuracy: 0.9974, Precision: 0.8716, Recall: 0.7875\n"
     ]
    },
    {
     "name": "stderr",
     "output_type": "stream",
     "text": [
      "Unknown image resource 1092\n",
      "Unknown key: b'CAI '\n",
      "Unknown tagged block: b'CAI ', b'\\x00\\x00\\x00\\x03\\x00\\x00\\x00\\x10\\x00\\x00\\x00\\x01\\x00\\x00\\x00\\x00 ... =77'\n",
      "Unknown key: b'OCIO'\n",
      "Unknown tagged block: b'OCIO', b'\\x00\\x00\\x00\\x10\\x00\\x00\\x00\\x01\\x00\\x00\\x00\\x00\\x00\\x1bdo ... =170'\n",
      "Unknown key: b'GenI'\n",
      "Unknown tagged block: b'GenI', b'\\x00\\x00\\x00\\x10\\x00\\x00\\x00\\x01\\x00\\x00\\x00\\x00\\x00\\x0bge ... =84'\n"
     ]
    },
    {
     "name": "stdout",
     "output_type": "stream",
     "text": [
      "可視化画像を保存しました: /Users/yuma/Yuma-Kanematsu/nnUNet/src/results/250419_inference/visualizations/6955010_19_visualization.png\n",
      "代替のPSDファイルが見つかりました: 6955010_20_R_FLOOR-3.psd\n",
      "PSDファイルを読み込みました: /Users/yuma/Yuma-Kanematsu/nnUNet/src/raw_data/Dataset004_Orbital_same_testdata/imagesTs/6955010_20_R_FLOOR-3.psd\n",
      "PSD画像配列形状: (512, 512, 4), 型: uint8\n",
      "RGBAフォーマットを処理中\n",
      "予測マスクの値範囲: 0 〜 1\n",
      "正解マスクの値範囲: 0 〜 1\n",
      "Intersection: 1605, Union: 2308\n",
      "予測マスクの陽性ピクセル数: 1806\n",
      "正解マスクの陽性ピクセル数: 2107\n",
      "処理完了: 6955010_20_R_FLOOR-3.png, Dice: 0.8203, IoU: 0.6954, Accuracy: 0.9973, Precision: 0.8887, Recall: 0.7617\n"
     ]
    },
    {
     "name": "stderr",
     "output_type": "stream",
     "text": [
      "Unknown image resource 1092\n",
      "Unknown key: b'CAI '\n",
      "Unknown tagged block: b'CAI ', b'\\x00\\x00\\x00\\x03\\x00\\x00\\x00\\x10\\x00\\x00\\x00\\x01\\x00\\x00\\x00\\x00 ... =77'\n",
      "Unknown key: b'OCIO'\n",
      "Unknown tagged block: b'OCIO', b'\\x00\\x00\\x00\\x10\\x00\\x00\\x00\\x01\\x00\\x00\\x00\\x00\\x00\\x1bdo ... =170'\n",
      "Unknown key: b'GenI'\n",
      "Unknown tagged block: b'GenI', b'\\x00\\x00\\x00\\x10\\x00\\x00\\x00\\x01\\x00\\x00\\x00\\x00\\x00\\x0bge ... =84'\n"
     ]
    },
    {
     "name": "stdout",
     "output_type": "stream",
     "text": [
      "可視化画像を保存しました: /Users/yuma/Yuma-Kanematsu/nnUNet/src/results/250419_inference/visualizations/6955010_20_visualization.png\n",
      "代替のPSDファイルが見つかりました: 6955010_24_R_FLOOR-3.psd\n",
      "PSDファイルを読み込みました: /Users/yuma/Yuma-Kanematsu/nnUNet/src/raw_data/Dataset004_Orbital_same_testdata/imagesTs/6955010_24_R_FLOOR-3.psd\n",
      "PSD画像配列形状: (512, 512, 4), 型: uint8\n",
      "RGBAフォーマットを処理中\n",
      "予測マスクの値範囲: 0 〜 1\n",
      "正解マスクの値範囲: 0 〜 1\n",
      "Intersection: 945, Union: 1600\n",
      "予測マスクの陽性ピクセル数: 1137\n",
      "正解マスクの陽性ピクセル数: 1408\n",
      "処理完了: 6955010_24_R_FLOOR-3.png, Dice: 0.7426, IoU: 0.5906, Accuracy: 0.9975, Precision: 0.8311, Recall: 0.6712\n"
     ]
    },
    {
     "name": "stderr",
     "output_type": "stream",
     "text": [
      "Unknown image resource 1092\n",
      "Unknown key: b'CAI '\n",
      "Unknown tagged block: b'CAI ', b'\\x00\\x00\\x00\\x03\\x00\\x00\\x00\\x10\\x00\\x00\\x00\\x01\\x00\\x00\\x00\\x00 ... =77'\n",
      "Unknown key: b'OCIO'\n",
      "Unknown tagged block: b'OCIO', b'\\x00\\x00\\x00\\x10\\x00\\x00\\x00\\x01\\x00\\x00\\x00\\x00\\x00\\x1bdo ... =170'\n",
      "Unknown key: b'GenI'\n",
      "Unknown tagged block: b'GenI', b'\\x00\\x00\\x00\\x10\\x00\\x00\\x00\\x01\\x00\\x00\\x00\\x00\\x00\\x0bge ... =84'\n"
     ]
    },
    {
     "name": "stdout",
     "output_type": "stream",
     "text": [
      "可視化画像を保存しました: /Users/yuma/Yuma-Kanematsu/nnUNet/src/results/250419_inference/visualizations/6955010_24_visualization.png\n",
      "代替のPSDファイルが見つかりました: 6870292_16_R_FLOOR-2.psd\n",
      "PSDファイルを読み込みました: /Users/yuma/Yuma-Kanematsu/nnUNet/src/raw_data/Dataset004_Orbital_same_testdata/imagesTs/6870292_16_R_FLOOR-2.psd\n",
      "PSD画像配列形状: (512, 512, 4), 型: uint8\n",
      "RGBAフォーマットを処理中\n",
      "予測マスクの値範囲: 0 〜 1\n",
      "正解マスクの値範囲: 0 〜 1\n",
      "Intersection: 2172, Union: 3643\n",
      "予測マスクの陽性ピクセル数: 3220\n",
      "正解マスクの陽性ピクセル数: 2595\n",
      "処理完了: 6870292_16_R_FLOOR-2.png, Dice: 0.7470, IoU: 0.5962, Accuracy: 0.9944, Precision: 0.6745, Recall: 0.8370\n"
     ]
    },
    {
     "name": "stderr",
     "output_type": "stream",
     "text": [
      "Unknown image resource 1092\n",
      "Unknown key: b'CAI '\n",
      "Unknown tagged block: b'CAI ', b'\\x00\\x00\\x00\\x03\\x00\\x00\\x00\\x10\\x00\\x00\\x00\\x01\\x00\\x00\\x00\\x00 ... =77'\n",
      "Unknown key: b'OCIO'\n",
      "Unknown tagged block: b'OCIO', b'\\x00\\x00\\x00\\x10\\x00\\x00\\x00\\x01\\x00\\x00\\x00\\x00\\x00\\x1bdo ... =170'\n",
      "Unknown key: b'GenI'\n",
      "Unknown tagged block: b'GenI', b'\\x00\\x00\\x00\\x10\\x00\\x00\\x00\\x01\\x00\\x00\\x00\\x00\\x00\\x0bge ... =84'\n"
     ]
    },
    {
     "name": "stdout",
     "output_type": "stream",
     "text": [
      "可視化画像を保存しました: /Users/yuma/Yuma-Kanematsu/nnUNet/src/results/250419_inference/visualizations/6870292_16_visualization.png\n",
      "代替のPSDファイルが見つかりました: 6887036_17_L_FLOOR-2.psd\n",
      "PSDファイルを読み込みました: /Users/yuma/Yuma-Kanematsu/nnUNet/src/raw_data/Dataset004_Orbital_same_testdata/imagesTs/6887036_17_L_FLOOR-2.psd\n",
      "PSD画像配列形状: (512, 512, 4), 型: uint8\n",
      "RGBAフォーマットを処理中\n",
      "予測マスクの値範囲: 0 〜 1\n",
      "正解マスクの値範囲: 0 〜 1\n",
      "Intersection: 1307, Union: 1960\n",
      "予測マスクの陽性ピクセル数: 1537\n",
      "正解マスクの陽性ピクセル数: 1730\n",
      "処理完了: 6887036_17_L_FLOOR-2.png, Dice: 0.8001, IoU: 0.6668, Accuracy: 0.9975, Precision: 0.8504, Recall: 0.7555\n"
     ]
    },
    {
     "name": "stderr",
     "output_type": "stream",
     "text": [
      "Unknown image resource 1092\n",
      "Unknown key: b'CAI '\n",
      "Unknown tagged block: b'CAI ', b'\\x00\\x00\\x00\\x03\\x00\\x00\\x00\\x10\\x00\\x00\\x00\\x01\\x00\\x00\\x00\\x00 ... =77'\n",
      "Unknown key: b'OCIO'\n",
      "Unknown tagged block: b'OCIO', b'\\x00\\x00\\x00\\x10\\x00\\x00\\x00\\x01\\x00\\x00\\x00\\x00\\x00\\x1bdo ... =170'\n",
      "Unknown key: b'GenI'\n",
      "Unknown tagged block: b'GenI', b'\\x00\\x00\\x00\\x10\\x00\\x00\\x00\\x01\\x00\\x00\\x00\\x00\\x00\\x0bge ... =84'\n"
     ]
    },
    {
     "name": "stdout",
     "output_type": "stream",
     "text": [
      "可視化画像を保存しました: /Users/yuma/Yuma-Kanematsu/nnUNet/src/results/250419_inference/visualizations/6887036_17_visualization.png\n",
      "代替のPSDファイルが見つかりました: 6887036_13_L_FLOOR-3.psd\n",
      "PSDファイルを読み込みました: /Users/yuma/Yuma-Kanematsu/nnUNet/src/raw_data/Dataset004_Orbital_same_testdata/imagesTs/6887036_13_L_FLOOR-3.psd\n",
      "PSD画像配列形状: (512, 512, 4), 型: uint8\n",
      "RGBAフォーマットを処理中\n",
      "予測マスクの値範囲: 0 〜 1\n",
      "正解マスクの値範囲: 0 〜 1\n",
      "Intersection: 2065, Union: 2901\n",
      "予測マスクの陽性ピクセル数: 2528\n",
      "正解マスクの陽性ピクセル数: 2438\n",
      "処理完了: 6887036_13_L_FLOOR-3.png, Dice: 0.8317, IoU: 0.7118, Accuracy: 0.9968, Precision: 0.8169, Recall: 0.8470\n"
     ]
    },
    {
     "name": "stderr",
     "output_type": "stream",
     "text": [
      "Unknown image resource 1092\n",
      "Unknown key: b'CAI '\n",
      "Unknown tagged block: b'CAI ', b'\\x00\\x00\\x00\\x03\\x00\\x00\\x00\\x10\\x00\\x00\\x00\\x01\\x00\\x00\\x00\\x00 ... =77'\n",
      "Unknown key: b'OCIO'\n",
      "Unknown tagged block: b'OCIO', b'\\x00\\x00\\x00\\x10\\x00\\x00\\x00\\x01\\x00\\x00\\x00\\x00\\x00\\x1bdo ... =170'\n",
      "Unknown key: b'GenI'\n",
      "Unknown tagged block: b'GenI', b'\\x00\\x00\\x00\\x10\\x00\\x00\\x00\\x01\\x00\\x00\\x00\\x00\\x00\\x0bge ... =84'\n"
     ]
    },
    {
     "name": "stdout",
     "output_type": "stream",
     "text": [
      "可視化画像を保存しました: /Users/yuma/Yuma-Kanematsu/nnUNet/src/results/250419_inference/visualizations/6887036_13_visualization.png\n",
      "代替のPSDファイルが見つかりました: 6887036_14_L_FLOOR-3.psd\n",
      "PSDファイルを読み込みました: /Users/yuma/Yuma-Kanematsu/nnUNet/src/raw_data/Dataset004_Orbital_same_testdata/imagesTs/6887036_14_L_FLOOR-3.psd\n",
      "PSD画像配列形状: (512, 512, 4), 型: uint8\n",
      "RGBAフォーマットを処理中\n",
      "予測マスクの値範囲: 0 〜 1\n",
      "正解マスクの値範囲: 0 〜 1\n",
      "Intersection: 2153, Union: 2780\n",
      "予測マスクの陽性ピクセル数: 2494\n",
      "正解マスクの陽性ピクセル数: 2439\n",
      "処理完了: 6887036_14_L_FLOOR-3.png, Dice: 0.8729, IoU: 0.7745, Accuracy: 0.9976, Precision: 0.8633, Recall: 0.8827\n"
     ]
    },
    {
     "name": "stderr",
     "output_type": "stream",
     "text": [
      "Unknown image resource 1092\n",
      "Unknown key: b'CAI '\n",
      "Unknown tagged block: b'CAI ', b'\\x00\\x00\\x00\\x03\\x00\\x00\\x00\\x10\\x00\\x00\\x00\\x01\\x00\\x00\\x00\\x00 ... =77'\n",
      "Unknown key: b'OCIO'\n",
      "Unknown tagged block: b'OCIO', b'\\x00\\x00\\x00\\x10\\x00\\x00\\x00\\x01\\x00\\x00\\x00\\x00\\x00\\x1bdo ... =170'\n",
      "Unknown key: b'GenI'\n",
      "Unknown tagged block: b'GenI', b'\\x00\\x00\\x00\\x10\\x00\\x00\\x00\\x01\\x00\\x00\\x00\\x00\\x00\\x0bge ... =84'\n"
     ]
    },
    {
     "name": "stdout",
     "output_type": "stream",
     "text": [
      "可視化画像を保存しました: /Users/yuma/Yuma-Kanematsu/nnUNet/src/results/250419_inference/visualizations/6887036_14_visualization.png\n",
      "代替のPSDファイルが見つかりました: 6955010_23_R_FLOOR-3.psd\n",
      "PSDファイルを読み込みました: /Users/yuma/Yuma-Kanematsu/nnUNet/src/raw_data/Dataset004_Orbital_same_testdata/imagesTs/6955010_23_R_FLOOR-3.psd\n",
      "PSD画像配列形状: (512, 512, 4), 型: uint8\n",
      "RGBAフォーマットを処理中\n",
      "予測マスクの値範囲: 0 〜 1\n",
      "正解マスクの値範囲: 0 〜 1\n",
      "Intersection: 1141, Union: 1756\n",
      "予測マスクの陽性ピクセル数: 1450\n",
      "正解マスクの陽性ピクセル数: 1447\n",
      "処理完了: 6955010_23_R_FLOOR-3.png, Dice: 0.7877, IoU: 0.6498, Accuracy: 0.9977, Precision: 0.7869, Recall: 0.7885\n"
     ]
    },
    {
     "name": "stderr",
     "output_type": "stream",
     "text": [
      "Unknown image resource 1092\n",
      "Unknown key: b'CAI '\n",
      "Unknown tagged block: b'CAI ', b'\\x00\\x00\\x00\\x03\\x00\\x00\\x00\\x10\\x00\\x00\\x00\\x01\\x00\\x00\\x00\\x00 ... =77'\n",
      "Unknown key: b'OCIO'\n",
      "Unknown tagged block: b'OCIO', b'\\x00\\x00\\x00\\x10\\x00\\x00\\x00\\x01\\x00\\x00\\x00\\x00\\x00\\x1bdo ... =170'\n",
      "Unknown key: b'GenI'\n",
      "Unknown tagged block: b'GenI', b'\\x00\\x00\\x00\\x10\\x00\\x00\\x00\\x01\\x00\\x00\\x00\\x00\\x00\\x0bge ... =84'\n"
     ]
    },
    {
     "name": "stdout",
     "output_type": "stream",
     "text": [
      "可視化画像を保存しました: /Users/yuma/Yuma-Kanematsu/nnUNet/src/results/250419_inference/visualizations/6955010_23_visualization.png\n",
      "代替のPSDファイルが見つかりました: 6870292_22_R_FLOOR-3.psd\n",
      "PSDファイルを読み込みました: /Users/yuma/Yuma-Kanematsu/nnUNet/src/raw_data/Dataset004_Orbital_same_testdata/imagesTs/6870292_22_R_FLOOR-3.psd\n",
      "PSD画像配列形状: (512, 512, 4), 型: uint8\n",
      "RGBAフォーマットを処理中\n",
      "予測マスクの値範囲: 0 〜 1\n",
      "正解マスクの値範囲: 0 〜 1\n",
      "Intersection: 1818, Union: 2574\n",
      "予測マスクの陽性ピクセル数: 2197\n",
      "正解マスクの陽性ピクセル数: 2195\n",
      "処理完了: 6870292_22_R_FLOOR-3.png, Dice: 0.8279, IoU: 0.7063, Accuracy: 0.9971, Precision: 0.8275, Recall: 0.8282\n"
     ]
    },
    {
     "name": "stderr",
     "output_type": "stream",
     "text": [
      "Unknown image resource 1092\n",
      "Unknown key: b'CAI '\n",
      "Unknown tagged block: b'CAI ', b'\\x00\\x00\\x00\\x03\\x00\\x00\\x00\\x10\\x00\\x00\\x00\\x01\\x00\\x00\\x00\\x00 ... =77'\n",
      "Unknown key: b'OCIO'\n",
      "Unknown tagged block: b'OCIO', b'\\x00\\x00\\x00\\x10\\x00\\x00\\x00\\x01\\x00\\x00\\x00\\x00\\x00\\x1bdo ... =170'\n",
      "Unknown key: b'GenI'\n",
      "Unknown tagged block: b'GenI', b'\\x00\\x00\\x00\\x10\\x00\\x00\\x00\\x01\\x00\\x00\\x00\\x00\\x00\\x0bge ... =84'\n"
     ]
    },
    {
     "name": "stdout",
     "output_type": "stream",
     "text": [
      "可視化画像を保存しました: /Users/yuma/Yuma-Kanematsu/nnUNet/src/results/250419_inference/visualizations/6870292_22_visualization.png\n",
      "代替のPSDファイルが見つかりました: 6870292_21_R_FLOOR-3.psd\n",
      "PSDファイルを読み込みました: /Users/yuma/Yuma-Kanematsu/nnUNet/src/raw_data/Dataset004_Orbital_same_testdata/imagesTs/6870292_21_R_FLOOR-3.psd\n",
      "PSD画像配列形状: (512, 512, 4), 型: uint8\n",
      "RGBAフォーマットを処理中\n",
      "予測マスクの値範囲: 0 〜 1\n",
      "正解マスクの値範囲: 0 〜 1\n",
      "Intersection: 2240, Union: 2909\n",
      "予測マスクの陽性ピクセル数: 2617\n",
      "正解マスクの陽性ピクセル数: 2532\n",
      "処理完了: 6870292_21_R_FLOOR-3.png, Dice: 0.8701, IoU: 0.7700, Accuracy: 0.9974, Precision: 0.8559, Recall: 0.8847\n",
      "可視化画像を保存しました: /Users/yuma/Yuma-Kanematsu/nnUNet/src/results/250419_inference/visualizations/6870292_21_visualization.png\n",
      "評価結果をCSVに保存しました: /Users/yuma/Yuma-Kanematsu/nnUNet/src/results/250419_inference/evaluation_metrics.csv\n",
      "すべての処理が完了しました。\n"
     ]
    }
   ],
   "source": [
    "# 環境変数を設定\n",
    "os.environ['nnUNet_raw'] = '/Users/yuma/Yuma-Kanematsu/nnUNet/src/raw_data'\n",
    "os.environ['nnUNet_results'] = '/Users/yuma/Yuma-Kanematsu/nnUNet/src/results'\n",
    "os.environ['nnUNet_preprocessed'] = '/Users/yuma/Yuma-Kanematsu/nnUNet/src/preprocessed_data' \n",
    "\n",
    "# 画像に関する問題を回避するための設定\n",
    "ImageFile.LOAD_TRUNCATED_IMAGES = True\n",
    "\n",
    "# パスの設定\n",
    "model_folder = '/Users/yuma/Yuma-Kanematsu/nnUNet/src/results/Dataset004_Orbital_same_testdata/nnUNetTrainer__nnUNetPlans__2d'\n",
    "input_folder = '/Users/yuma/Yuma-Kanematsu/nnUNet/src/raw_data/Dataset004_Orbital_same_testdata/imagesTs'\n",
    "\n",
    "output_folder = '/Users/yuma/Yuma-Kanematsu/nnUNet/src/results/250419_inference'\n",
    "csv_output_path = os.path.join(output_folder, 'evaluation_metrics.csv') # 評価結果を保存するCSVファイルのパス\n",
    "visualization_folder = os.path.join(output_folder, 'visualizations') # 可視化画像の保存フォルダ\n",
    "\n",
    "# 可視化フォルダが存在しない場合は作成\n",
    "os.makedirs(visualization_folder, exist_ok=True)\n",
    "\n",
    "# メトリクス計算関数\n",
    "def calculate_metrics(pred_mask, gt_mask):\n",
    "    \"\"\"\n",
    "    予測マスクと正解マスクからDice、IoU、Accuracy、Precision、Recallを計算する関数\n",
    "    \n",
    "    Parameters:\n",
    "    pred_mask (numpy.ndarray): 予測マスク\n",
    "    gt_mask (numpy.ndarray): 正解マスク\n",
    "    \n",
    "    Returns:\n",
    "    tuple: (dice, iou, accuracy, precision, recall)\n",
    "    \"\"\"\n",
    "    # マスクの値を確認し、デバッグ情報を出力\n",
    "    print(f\"予測マスクの値範囲: {np.min(pred_mask)} 〜 {np.max(pred_mask)}\")\n",
    "    print(f\"正解マスクの値範囲: {np.min(gt_mask)} 〜 {np.max(gt_mask)}\")\n",
    "    \n",
    "    # 2値画像に変換\n",
    "    pred_binary = (pred_mask > 0).astype(np.uint8)\n",
    "    gt_binary = (gt_mask > 0).astype(np.uint8)\n",
    "    \n",
    "    # 交差（Intersection）\n",
    "    intersection = np.logical_and(pred_binary, gt_binary).sum()\n",
    "    \n",
    "    # 合併（Union）\n",
    "    union = np.logical_or(pred_binary, gt_binary).sum()\n",
    "    \n",
    "    # デバッグ情報を出力\n",
    "    print(f\"Intersection: {intersection}, Union: {union}\")\n",
    "    print(f\"予測マスクの陽性ピクセル数: {pred_binary.sum()}\")\n",
    "    print(f\"正解マスクの陽性ピクセル数: {gt_binary.sum()}\")\n",
    "    \n",
    "    # Precision（適合率）: TP / (TP + FP)\n",
    "    precision = intersection / (pred_binary.sum() + 1e-10)\n",
    "    \n",
    "    # Recall（再現率）: TP / (TP + FN)\n",
    "    recall = intersection / (gt_binary.sum() + 1e-10)\n",
    "    \n",
    "    # Dice係数\n",
    "    dice = (2.0 * intersection) / (pred_binary.sum() + gt_binary.sum() + 1e-10) # ゼロ除算エラーを防ぐための小さな値（1e-10）を追加\n",
    "    \n",
    "    # IoU（Intersection over Union）\n",
    "    iou = intersection / (union + 1e-10)\n",
    "    \n",
    "    # Accuracy\n",
    "    total_pixels = pred_binary.size\n",
    "    correct_pixels = (pred_binary == gt_binary).sum()\n",
    "    accuracy = correct_pixels / total_pixels\n",
    "    \n",
    "    return dice, iou, accuracy, precision, recall, pred_binary, gt_binary\n",
    "\n",
    "# PSDファイルからマスク画像を抽出する関数\n",
    "def extract_mask_from_psd(psd_path, color_threshold=50):\n",
    "    \"\"\"\n",
    "    PSDファイルからマスク画像を赤チャンネルの閾値に基づいて抽出する関数\n",
    "    \n",
    "    Parameters:\n",
    "    psd_path (str): PSDファイルのパス\n",
    "    color_threshold (int): 赤チャンネルの閾値\n",
    "    \n",
    "    Returns:\n",
    "    numpy.ndarray: 抽出したマスク画像\n",
    "    \"\"\"\n",
    "    try:\n",
    "        print(f\"PSDファイルを読み込みました: {psd_path}\")\n",
    "        \n",
    "        # Open PSD file\n",
    "        psd = PSDImage.open(psd_path)\n",
    "        \n",
    "        # Get composite image\n",
    "        composite_image = psd.composite()\n",
    "        \n",
    "        # Convert to numpy array\n",
    "        img_array = np.array(composite_image)\n",
    "        print(f\"PSD画像配列形状: {img_array.shape}, 型: {img_array.dtype}\")\n",
    "        \n",
    "        # Extract red channel\n",
    "        if len(img_array.shape) == 3 and img_array.shape[2] == 4:  # RGBA\n",
    "            print(\"RGBAフォーマットを処理中\")\n",
    "            red_channel = img_array[:, :, 0]\n",
    "            green_channel = img_array[:, :, 1]\n",
    "            blue_channel = img_array[:, :, 2]\n",
    "            alpha_channel = img_array[:, :, 3]\n",
    "            \n",
    "            # Red mask condition: high red component, low green and blue, has transparency\n",
    "            red_mask = ((red_channel > green_channel + color_threshold) & \n",
    "                        (red_channel > blue_channel + color_threshold) & \n",
    "                        (alpha_channel > 0))\n",
    "        elif len(img_array.shape) == 3 and img_array.shape[2] == 3:  # RGB\n",
    "            print(\"RGBフォーマットを処理中\")\n",
    "            red_channel = img_array[:, :, 0]\n",
    "            green_channel = img_array[:, :, 1]\n",
    "            blue_channel = img_array[:, :, 2]\n",
    "            \n",
    "            # Red mask condition\n",
    "            red_mask = ((red_channel > green_channel + color_threshold) & \n",
    "                        (red_channel > blue_channel + color_threshold))\n",
    "        else:\n",
    "            # Grayscale - すべて陽性として扱うか、別のロジックが必要\n",
    "            print(f\"グレースケールまたは非対応フォーマット (形状: {img_array.shape})\")\n",
    "            if len(img_array.shape) == 2:\n",
    "                # グレースケール画像の場合は単純に0より大きい値を陽性とする\n",
    "                red_mask = img_array > 0\n",
    "            else:\n",
    "                print(\"非対応の画像形式です\")\n",
    "                return None\n",
    "        \n",
    "        # Convert to binary mask (0 or 1)\n",
    "        binary_mask = red_mask.astype(np.uint8)\n",
    "        \n",
    "        return binary_mask\n",
    "    except Exception as e:\n",
    "        print(f\"PSDファイル処理エラー: {psd_path}, エラー: {e}\")\n",
    "        import traceback\n",
    "        traceback.print_exc()\n",
    "        return None\n",
    "\n",
    "# 可視化関数\n",
    "def create_visualization(original_image_path, pred_mask, gt_mask, output_path, title=\"\"):\n",
    "    \"\"\"\n",
    "    元画像、予測マスク、正解マスクの可視化画像を作成して保存する関数\n",
    "    \n",
    "    Parameters:\n",
    "    original_image_path (str): 元画像のパス\n",
    "    pred_mask (numpy.ndarray): 予測マスク（バイナリ）\n",
    "    gt_mask (numpy.ndarray): 正解マスク（バイナリ）\n",
    "    output_path (str): 保存先のパス\n",
    "    title (str): 画像タイトル\n",
    "    \"\"\"\n",
    "    try:\n",
    "        # 元画像の読み込み\n",
    "        original_img = Image.open(original_image_path)\n",
    "        original_array = np.array(original_img)\n",
    "        \n",
    "        # 予測マスクと正解マスクを255にスケーリング（表示用）\n",
    "        pred_display = pred_mask * 255\n",
    "        gt_display = gt_mask * 255\n",
    "        \n",
    "        # 元画像がグレースケールの場合はRGBに変換\n",
    "        if len(original_array.shape) == 2:\n",
    "            original_rgb = np.stack([original_array, original_array, original_array], axis=2)\n",
    "        else:\n",
    "            original_rgb = original_array.copy()\n",
    "        \n",
    "        # オーバーレイ画像の作成（元画像 + 予測マスク）\n",
    "        overlay_img = original_rgb.copy()\n",
    "        \n",
    "        # 赤色で予測マスクを表示\n",
    "        if len(overlay_img.shape) == 3 and overlay_img.shape[2] >= 3:\n",
    "            overlay_img[pred_mask > 0, 0] = 255  # Red channel\n",
    "            overlay_img[pred_mask > 0, 1] = 0    # Green channel\n",
    "            overlay_img[pred_mask > 0, 2] = 0    # Blue channel\n",
    "        \n",
    "        # 2x2のグリッドで可視化\n",
    "        fig, axes = plt.subplots(2, 2, figsize=(12, 10))\n",
    "        \n",
    "        # 正解マスク\n",
    "        axes[0, 0].imshow(gt_display, cmap='gray')\n",
    "        axes[0, 0].set_title('Ground Truth')\n",
    "        axes[0, 0].axis('off')\n",
    "        \n",
    "        # 予測マスク\n",
    "        axes[0, 1].imshow(pred_display, cmap='gray')\n",
    "        axes[0, 1].set_title('Predicted Mask')\n",
    "        axes[0, 1].axis('off')\n",
    "        \n",
    "        # 元画像\n",
    "        axes[1, 0].imshow(original_array, cmap='gray' if len(original_array.shape) == 2 else None)\n",
    "        axes[1, 0].set_title('Original Image')\n",
    "        axes[1, 0].axis('off')\n",
    "        \n",
    "        # オーバーレイ（元画像 + 予測マスク）\n",
    "        axes[1, 1].imshow(overlay_img)\n",
    "        axes[1, 1].set_title('Original with Predicted Mask')\n",
    "        axes[1, 1].axis('off')\n",
    "        \n",
    "        # タイトルがあれば設定\n",
    "        if title:\n",
    "            fig.suptitle(title, fontsize=16)\n",
    "            \n",
    "        # レイアウト調整と保存\n",
    "        plt.tight_layout()\n",
    "        plt.savefig(output_path, dpi=300, bbox_inches='tight')\n",
    "        plt.close(fig)  # メモリ解放のためにfigureを閉じる\n",
    "        \n",
    "        print(f\"可視化画像を保存しました: {output_path}\")\n",
    "        \n",
    "    except Exception as e:\n",
    "        print(f\"可視化処理エラー: {e}\")\n",
    "        import traceback\n",
    "        traceback.print_exc()\n",
    "\n",
    "# ファイル名から患者IDと画像番号を抽出する関数\n",
    "def extract_patient_info(filename):\n",
    "    \"\"\"\n",
    "    ファイル名から患者IDと画像番号を抽出する関数\n",
    "    \n",
    "    Parameters:\n",
    "    filename (str): ファイル名\n",
    "    \n",
    "    Returns:\n",
    "    tuple: (patient_id, img_num)\n",
    "    \"\"\"\n",
    "    # 正規表現でパターンを抽出\n",
    "    pattern = r'(\\d+)_(\\d+)_'\n",
    "    match = re.search(pattern, filename)\n",
    "    if match:\n",
    "        patient_id = match.group(1)\n",
    "        img_num = match.group(2)\n",
    "        return patient_id, img_num\n",
    "    else:\n",
    "        return None, None\n",
    "\n",
    "# 1. 推論の実行\n",
    "def run_inference():\n",
    "    \"\"\"\n",
    "    nnUNetを使用して推論を実行する関数\n",
    "    \"\"\"\n",
    "    predictor = nnUNetPredictor(\n",
    "        tile_step_size=0.5,\n",
    "        use_gaussian=True,\n",
    "        use_mirroring=True,\n",
    "        perform_everything_on_device=False,\n",
    "        device=torch.device('mps', 0),\n",
    "        verbose=False,\n",
    "        verbose_preprocessing=False,\n",
    "        allow_tqdm=True\n",
    "    )\n",
    "    \n",
    "    # モデルの初期化\n",
    "    predictor.initialize_from_trained_model_folder(\n",
    "        model_folder,\n",
    "        use_folds=(0,),\n",
    "        checkpoint_name='checkpoint_best.pth',\n",
    "    )\n",
    "    \n",
    "    # 推論を実行\n",
    "    predictor.predict_from_files(\n",
    "        input_folder,\n",
    "        output_folder,\n",
    "        save_probabilities=False, \n",
    "        overwrite=True,\n",
    "        num_processes_preprocessing=1, \n",
    "        num_processes_segmentation_export=1,\n",
    "        folder_with_segs_from_prev_stage=None, \n",
    "        num_parts=1, \n",
    "        part_id=0\n",
    "    )\n",
    "    print(\"推論が完了しました。\")\n",
    "\n",
    "# 2. 評価と可視化の実行\n",
    "def evaluate_and_visualize_results():\n",
    "    \"\"\"\n",
    "    推論結果と正解ラベルを比較して評価指標を計算し、可視化する関数\n",
    "    \"\"\"\n",
    "    # 出力フォルダにあるファイルのリストを取得\n",
    "    prediction_files = [f for f in os.listdir(output_folder) if f.endswith('.png')]\n",
    "    \n",
    "    # 評価結果を保存するリスト\n",
    "    results = []\n",
    "    \n",
    "    for pred_file in prediction_files:\n",
    "        patient_id, img_num = extract_patient_info(pred_file)\n",
    "        \n",
    "        if patient_id is None:\n",
    "            print(f\"ファイル名からの情報抽出に失敗: {pred_file}\")\n",
    "            continue\n",
    "        \n",
    "        # 対応するPSDファイルを探す\n",
    "        # もしマッチするファイルが見つからない場合、より一般的な方法で検索\n",
    "\n",
    "        # 患者IDと画像番号で始まるPSDファイルを探す\n",
    "        prefix = f\"{patient_id}_{img_num}_\"\n",
    "        matching_files = [f for f in os.listdir(input_folder) if f.startswith(prefix) and f.endswith('.psd')]\n",
    "        \n",
    "        if matching_files:\n",
    "            psd_path = os.path.join(input_folder, matching_files[0])\n",
    "            print(f\"代替のPSDファイルが見つかりました: {matching_files[0]}\")\n",
    "        else:\n",
    "            print(f\"対応するPSDファイルが見つかりません: {patient_id}_{img_num}_*.psd\")\n",
    "            continue\n",
    "        \n",
    "        # 元画像のパスを作成（通常は入力フォルダの中の[patient_id]_[img_num]_*.pngという形式）\n",
    "        original_image_pattern = f\"{patient_id}_{img_num}_R_FLOOR-*_0000.png\"\n",
    "        matching_originals = [f for f in os.listdir(input_folder) if re.match(f\"{patient_id}_{img_num}_.*_0000\\.png\", f)]\n",
    "        \n",
    "        if not matching_originals:\n",
    "            print(f\"元画像が見つかりません: {original_image_pattern}\")\n",
    "            continue\n",
    "            \n",
    "        original_image_path = os.path.join(input_folder, matching_originals[0])\n",
    "        \n",
    "        # 予測マスクの読み込み\n",
    "        pred_path = os.path.join(output_folder, pred_file)\n",
    "        pred_mask = np.array(Image.open(pred_path))\n",
    "        \n",
    "        # 正解マスクの読み込み\n",
    "        gt_mask = extract_mask_from_psd(psd_path)\n",
    "        \n",
    "        if gt_mask is None:\n",
    "            print(f\"正解マスクの抽出に失敗: {psd_path}\")\n",
    "            continue\n",
    "        \n",
    "        # サイズが異なる場合はリサイズ\n",
    "        if pred_mask.shape != gt_mask.shape:\n",
    "            print(f\"マスクサイズが異なります。予測: {pred_mask.shape}, 正解: {gt_mask.shape}\")\n",
    "            \n",
    "            # リサイズ処理\n",
    "            gt_mask_pil = Image.fromarray(gt_mask)\n",
    "            gt_mask_pil = gt_mask_pil.resize((pred_mask.shape[1], pred_mask.shape[0]), Image.NEAREST)\n",
    "            gt_mask = np.array(gt_mask_pil)\n",
    "        \n",
    "        # メトリクスの計算\n",
    "        dice, iou, accuracy, precision, recall, pred_binary, gt_binary = calculate_metrics(pred_mask, gt_mask)\n",
    "        \n",
    "        # 結果を追加\n",
    "        results.append({\n",
    "            'Patient_ID': patient_id,\n",
    "            'img_num': img_num,\n",
    "            'IoU': iou,\n",
    "            'Dice': dice,\n",
    "            'Accuracy': accuracy,\n",
    "            'Precision': precision,\n",
    "            'Recall': recall,\n",
    "        })\n",
    "        \n",
    "        print(f\"処理完了: {pred_file}, Dice: {dice:.4f}, IoU: {iou:.4f}, Accuracy: {accuracy:.4f}, Precision: {precision:.4f}, Recall: {recall:.4f}\")\n",
    "        \n",
    "        # 可視化画像の保存パス\n",
    "        vis_filename = f\"{patient_id}_{img_num}_visualization.png\"\n",
    "        vis_path = os.path.join(visualization_folder, vis_filename)\n",
    "        \n",
    "        # 可視化を実行\n",
    "        title = f\"Patient: {patient_id}, Image: {img_num}, Dice: {dice:.4f}, IoU: {iou:.4f}\"\n",
    "        create_visualization(original_image_path, pred_binary, gt_binary, vis_path, title)\n",
    "    \n",
    "    # 結果をCSVに出力\n",
    "    df = pd.DataFrame(results)\n",
    "    df.to_csv(csv_output_path, index=False)\n",
    "    print(f\"評価結果をCSVに保存しました: {csv_output_path}\")\n",
    "\n",
    "# メイン処理\n",
    "if __name__ == \"__main__\":\n",
    "    # 1. 推論の実行\n",
    "    print(\"推論を開始します...\")\n",
    "    run_inference()\n",
    "    \n",
    "    # 2. 評価と可視化の実行\n",
    "    print(\"評価と可視化を開始します...\")\n",
    "    evaluate_and_visualize_results()\n",
    "    \n",
    "    print(\"すべての処理が完了しました。\")"
   ]
  },
  {
   "cell_type": "code",
   "execution_count": 4,
   "metadata": {},
   "outputs": [
    {
     "name": "stdout",
     "output_type": "stream",
     "text": [
      "CSVファイルを読み込みます...\n",
      "CSVファイルのパス: /Users/yuma/Yuma-Kanematsu/nnUNet/src/results/250422_inference_ROI/evaluation_metrics.csv\n",
      "+--------+--------+--------+------------+-------------+----------+\n",
      "|        | Dice   | IoU    | Accuracy   | Precision   | Recall   |\n",
      "+========+========+========+============+=============+==========+\n",
      "| nnUNet | 83.01% | 71.14% | 98.89%     | 83.52%      | 83.33%   |\n",
      "+--------+--------+--------+------------+-------------+----------+\n",
      "\n",
      "解析したテストデータの数: 19\n",
      "平均Precision: 0.8352\n",
      "平均Recall: 0.8333\n",
      "平均F1スコア: 0.8343\n",
      "平均Dice: 0.8301\n",
      "平均Accuracy: 0.9889\n",
      "平均IoU: 0.7114\n"
     ]
    }
   ],
   "source": [
    "import pandas as pd\n",
    "from tabulate import tabulate\n",
    "\n",
    "# CSVからデータを読み込む\n",
    "print(\"CSVファイルを読み込みます...\")\n",
    "print(f\"CSVファイルのパス: {csv_output_path}\")\n",
    "df_test = pd.read_csv(csv_output_path)\n",
    "\n",
    "# 指標の平均値を計算\n",
    "mean_dice = df_test['Dice'].mean() * 100  # パーセント表示に変換\n",
    "mean_hd95 = df_test['HD95'].mean() if 'HD95' in df_test.columns else 0  # HD95カラムがある場合\n",
    "mean_iou = df_test['IoU'].mean() * 100\n",
    "mean_acc = df_test['Accuracy'].mean() * 100\n",
    "mean_precision = df_test['Precision'].mean() * 100\n",
    "mean_recall = df_test['Recall'].mean() * 100\n",
    "\n",
    "# 表のデータを作成\n",
    "data = [\n",
    "    ['nnUNet', f\"{mean_dice:.2f}%\", f\"{mean_iou:.2f}%\", \n",
    "     f\"{mean_acc:.2f}%\", f\"{mean_precision:.2f}%\", f\"{mean_recall:.2f}%\"]\n",
    "]\n",
    "\n",
    "# モデルの種類を追加する場合は以下のようにdataに追加\n",
    "# data.append(['別のモデル名', '値1', '値2', ...])\n",
    "\n",
    "# 表のヘッダーを定義\n",
    "headers = [\"\", \"Dice\", \"IoU\", \"Accuracy\", \"Precision\", \"Recall\"]\n",
    "\n",
    "# 表を生成\n",
    "table = tabulate(data, headers, tablefmt=\"grid\")\n",
    "print(table)\n",
    "\n",
    "# 詳細な指標も出力\n",
    "print(f\"\\n解析したテストデータの数: {len(df_test)}\")\n",
    "print(f\"平均Precision: {mean_precision/100:.4f}\")\n",
    "print(f\"平均Recall: {mean_recall/100:.4f}\")\n",
    "print(f\"平均F1スコア: {2 * ((mean_precision/100) * (mean_recall/100)) / ((mean_precision/100) + (mean_recall/100)):.4f}\")\n",
    "print(f\"平均Dice: {mean_dice/100:.4f}\")\n",
    "print(f\"平均Accuracy: {mean_acc/100:.4f}\")\n",
    "print(f\"平均IoU: {mean_iou/100:.4f}\")"
   ]
  },
  {
   "cell_type": "code",
   "execution_count": 3,
   "metadata": {},
   "outputs": [
    {
     "name": "stdout",
     "output_type": "stream",
     "text": [
      "推論を開始します...\n",
      "perform_everything_on_device=True is only supported for cuda devices! Setting this to False\n",
      "There are 19 cases in the source folder\n",
      "I am process 0 out of 1 (max process ID is 0, we start counting with 0!)\n",
      "There are 19 cases that I would like to predict\n",
      "\n",
      "Predicting 6870292_16_R_FLOOR-2:\n",
      "perform_everything_on_device: False\n"
     ]
    },
    {
     "name": "stderr",
     "output_type": "stream",
     "text": [
      "100%|██████████| 1/1 [00:00<00:00,  2.78it/s]\n"
     ]
    },
    {
     "name": "stdout",
     "output_type": "stream",
     "text": [
      "sending off prediction to background worker for resampling and export\n",
      "done with 6870292_16_R_FLOOR-2\n",
      "\n",
      "Predicting 6870292_19_R_FLOOR-3:\n",
      "perform_everything_on_device: False\n"
     ]
    },
    {
     "name": "stderr",
     "output_type": "stream",
     "text": [
      "100%|██████████| 1/1 [00:00<00:00,  6.86it/s]\n"
     ]
    },
    {
     "name": "stdout",
     "output_type": "stream",
     "text": [
      "sending off prediction to background worker for resampling and export\n",
      "done with 6870292_19_R_FLOOR-3\n",
      "\n",
      "Predicting 6870292_20_R_FLOOR-3:\n",
      "perform_everything_on_device: False\n"
     ]
    },
    {
     "name": "stderr",
     "output_type": "stream",
     "text": [
      "100%|██████████| 1/1 [00:00<00:00,  6.96it/s]\n"
     ]
    },
    {
     "name": "stdout",
     "output_type": "stream",
     "text": [
      "sending off prediction to background worker for resampling and export\n",
      "done with 6870292_20_R_FLOOR-3\n",
      "\n",
      "Predicting 6870292_21_R_FLOOR-3:\n",
      "perform_everything_on_device: False\n"
     ]
    },
    {
     "name": "stderr",
     "output_type": "stream",
     "text": [
      "100%|██████████| 1/1 [00:00<00:00,  6.68it/s]\n"
     ]
    },
    {
     "name": "stdout",
     "output_type": "stream",
     "text": [
      "sending off prediction to background worker for resampling and export\n",
      "done with 6870292_21_R_FLOOR-3\n",
      "\n",
      "Predicting 6870292_22_R_FLOOR-3:\n",
      "perform_everything_on_device: False\n"
     ]
    },
    {
     "name": "stderr",
     "output_type": "stream",
     "text": [
      "100%|██████████| 1/1 [00:00<00:00,  7.04it/s]\n"
     ]
    },
    {
     "name": "stdout",
     "output_type": "stream",
     "text": [
      "sending off prediction to background worker for resampling and export\n",
      "done with 6870292_22_R_FLOOR-3\n",
      "\n",
      "Predicting 6870292_23_R_FLOOR-3:\n",
      "perform_everything_on_device: False\n"
     ]
    },
    {
     "name": "stderr",
     "output_type": "stream",
     "text": [
      "100%|██████████| 1/1 [00:00<00:00,  7.07it/s]\n"
     ]
    },
    {
     "name": "stdout",
     "output_type": "stream",
     "text": [
      "sending off prediction to background worker for resampling and export\n",
      "done with 6870292_23_R_FLOOR-3\n",
      "\n",
      "Predicting 6887036_12_L_FLOOR-2:\n",
      "perform_everything_on_device: False\n"
     ]
    },
    {
     "name": "stderr",
     "output_type": "stream",
     "text": [
      "100%|██████████| 1/1 [00:00<00:00,  7.06it/s]\n"
     ]
    },
    {
     "name": "stdout",
     "output_type": "stream",
     "text": [
      "sending off prediction to background worker for resampling and export\n",
      "done with 6887036_12_L_FLOOR-2\n",
      "\n",
      "Predicting 6887036_13_L_FLOOR-3:\n",
      "perform_everything_on_device: False\n"
     ]
    },
    {
     "name": "stderr",
     "output_type": "stream",
     "text": [
      "100%|██████████| 1/1 [00:00<00:00,  6.89it/s]\n"
     ]
    },
    {
     "name": "stdout",
     "output_type": "stream",
     "text": [
      "sending off prediction to background worker for resampling and export\n",
      "done with 6887036_13_L_FLOOR-3\n",
      "\n",
      "Predicting 6887036_14_L_FLOOR-3:\n",
      "perform_everything_on_device: False\n"
     ]
    },
    {
     "name": "stderr",
     "output_type": "stream",
     "text": [
      "100%|██████████| 1/1 [00:00<00:00,  6.96it/s]\n"
     ]
    },
    {
     "name": "stdout",
     "output_type": "stream",
     "text": [
      "sending off prediction to background worker for resampling and export\n",
      "done with 6887036_14_L_FLOOR-3\n",
      "\n",
      "Predicting 6887036_15_L_FLOOR-3:\n",
      "perform_everything_on_device: False\n"
     ]
    },
    {
     "name": "stderr",
     "output_type": "stream",
     "text": [
      "100%|██████████| 1/1 [00:00<00:00,  6.97it/s]\n"
     ]
    },
    {
     "name": "stdout",
     "output_type": "stream",
     "text": [
      "sending off prediction to background worker for resampling and export\n",
      "done with 6887036_15_L_FLOOR-3\n",
      "\n",
      "Predicting 6887036_16_L_FLOOR-3:\n",
      "perform_everything_on_device: False\n"
     ]
    },
    {
     "name": "stderr",
     "output_type": "stream",
     "text": [
      "100%|██████████| 2/2 [00:00<00:00,  7.08it/s]\n"
     ]
    },
    {
     "name": "stdout",
     "output_type": "stream",
     "text": [
      "sending off prediction to background worker for resampling and export\n",
      "done with 6887036_16_L_FLOOR-3\n",
      "\n",
      "Predicting 6887036_17_L_FLOOR-2:\n",
      "perform_everything_on_device: False\n"
     ]
    },
    {
     "name": "stderr",
     "output_type": "stream",
     "text": [
      "100%|██████████| 2/2 [00:00<00:00,  7.08it/s]\n"
     ]
    },
    {
     "name": "stdout",
     "output_type": "stream",
     "text": [
      "sending off prediction to background worker for resampling and export\n",
      "done with 6887036_17_L_FLOOR-2\n",
      "\n",
      "Predicting 6955010_18_R_FLOOR-2:\n",
      "perform_everything_on_device: False\n"
     ]
    },
    {
     "name": "stderr",
     "output_type": "stream",
     "text": [
      "100%|██████████| 1/1 [00:00<00:00,  7.12it/s]\n"
     ]
    },
    {
     "name": "stdout",
     "output_type": "stream",
     "text": [
      "sending off prediction to background worker for resampling and export\n",
      "done with 6955010_18_R_FLOOR-2\n",
      "\n",
      "Predicting 6955010_19_R_FLOOR-3:\n",
      "perform_everything_on_device: False\n"
     ]
    },
    {
     "name": "stderr",
     "output_type": "stream",
     "text": [
      "100%|██████████| 1/1 [00:00<00:00,  6.85it/s]\n"
     ]
    },
    {
     "name": "stdout",
     "output_type": "stream",
     "text": [
      "sending off prediction to background worker for resampling and export\n",
      "done with 6955010_19_R_FLOOR-3\n",
      "\n",
      "Predicting 6955010_20_R_FLOOR-3:\n",
      "perform_everything_on_device: False\n"
     ]
    },
    {
     "name": "stderr",
     "output_type": "stream",
     "text": [
      "100%|██████████| 1/1 [00:00<00:00,  7.17it/s]\n"
     ]
    },
    {
     "name": "stdout",
     "output_type": "stream",
     "text": [
      "sending off prediction to background worker for resampling and export\n",
      "done with 6955010_20_R_FLOOR-3\n",
      "\n",
      "Predicting 6955010_21_R_FLOOR-3:\n",
      "perform_everything_on_device: False\n"
     ]
    },
    {
     "name": "stderr",
     "output_type": "stream",
     "text": [
      "100%|██████████| 2/2 [00:00<00:00,  7.02it/s]\n"
     ]
    },
    {
     "name": "stdout",
     "output_type": "stream",
     "text": [
      "sending off prediction to background worker for resampling and export\n",
      "done with 6955010_21_R_FLOOR-3\n",
      "\n",
      "Predicting 6955010_22_R_FLOOR-3:\n",
      "perform_everything_on_device: False\n"
     ]
    },
    {
     "name": "stderr",
     "output_type": "stream",
     "text": [
      "100%|██████████| 2/2 [00:00<00:00,  7.01it/s]\n"
     ]
    },
    {
     "name": "stdout",
     "output_type": "stream",
     "text": [
      "sending off prediction to background worker for resampling and export\n",
      "done with 6955010_22_R_FLOOR-3\n",
      "\n",
      "Predicting 6955010_23_R_FLOOR-3:\n",
      "perform_everything_on_device: False\n"
     ]
    },
    {
     "name": "stderr",
     "output_type": "stream",
     "text": [
      "100%|██████████| 2/2 [00:00<00:00,  6.69it/s]\n"
     ]
    },
    {
     "name": "stdout",
     "output_type": "stream",
     "text": [
      "sending off prediction to background worker for resampling and export\n",
      "done with 6955010_23_R_FLOOR-3\n",
      "\n",
      "Predicting 6955010_24_R_FLOOR-3:\n",
      "perform_everything_on_device: False\n"
     ]
    },
    {
     "name": "stderr",
     "output_type": "stream",
     "text": [
      "100%|██████████| 2/2 [00:00<00:00,  7.08it/s]\n"
     ]
    },
    {
     "name": "stdout",
     "output_type": "stream",
     "text": [
      "sending off prediction to background worker for resampling and export\n",
      "done with 6955010_24_R_FLOOR-3\n",
      "推論が完了しました。\n",
      "評価と可視化を開始します...\n",
      "処理中のファイル: 6870292_20_R_FLOOR-3.png\n",
      "元画像: /Users/yuma/Yuma-Kanematsu/nnUNet/src/raw_data/Dataset005_Orbital_ROI/imagesTs/6870292_20_R_FLOOR-3_0000.png\n",
      "予測マスク: /Users/yuma/Yuma-Kanematsu/nnUNet/src/results/250422_inference_ROI/6870292_20_R_FLOOR-3.png\n",
      "正解マスク: /Users/yuma/Yuma-Kanematsu/nnUNet/src/raw_data/Dataset005_Orbital_ROI/labelsTs/6870292_20_R_FLOOR-3.png\n",
      "予測マスクの値範囲: 0 〜 1\n",
      "正解マスクの値範囲: 0 〜 1\n",
      "Intersection: 7885, Union: 10386\n",
      "予測マスクの陽性ピクセル数: 9697\n",
      "正解マスクの陽性ピクセル数: 8574\n",
      "処理完了: 6870292_20_R_FLOOR-3.png, Dice: 0.8631, IoU: 0.7592, Accuracy: 0.9905, Precision: 0.8131, Recall: 0.9196\n",
      "可視化画像を保存しました: /Users/yuma/Yuma-Kanematsu/nnUNet/src/results/250422_inference_ROI/visualizations/6870292_20_R_FLOOR-3_visualization.png\n",
      "処理中のファイル: 6870292_19_R_FLOOR-3.png\n",
      "元画像: /Users/yuma/Yuma-Kanematsu/nnUNet/src/raw_data/Dataset005_Orbital_ROI/imagesTs/6870292_19_R_FLOOR-3_0000.png\n",
      "予測マスク: /Users/yuma/Yuma-Kanematsu/nnUNet/src/results/250422_inference_ROI/6870292_19_R_FLOOR-3.png\n",
      "正解マスク: /Users/yuma/Yuma-Kanematsu/nnUNet/src/raw_data/Dataset005_Orbital_ROI/labelsTs/6870292_19_R_FLOOR-3.png\n",
      "予測マスクの値範囲: 0 〜 1\n",
      "正解マスクの値範囲: 0 〜 1\n",
      "Intersection: 6617, Union: 9103\n",
      "予測マスクの陽性ピクセル数: 8807\n",
      "正解マスクの陽性ピクセル数: 6913\n",
      "処理完了: 6870292_19_R_FLOOR-3.png, Dice: 0.8419, IoU: 0.7269, Accuracy: 0.9905, Precision: 0.7513, Recall: 0.9572\n",
      "可視化画像を保存しました: /Users/yuma/Yuma-Kanematsu/nnUNet/src/results/250422_inference_ROI/visualizations/6870292_19_R_FLOOR-3_visualization.png\n",
      "処理中のファイル: 6870292_23_R_FLOOR-3.png\n",
      "元画像: /Users/yuma/Yuma-Kanematsu/nnUNet/src/raw_data/Dataset005_Orbital_ROI/imagesTs/6870292_23_R_FLOOR-3_0000.png\n",
      "予測マスク: /Users/yuma/Yuma-Kanematsu/nnUNet/src/results/250422_inference_ROI/6870292_23_R_FLOOR-3.png\n",
      "正解マスク: /Users/yuma/Yuma-Kanematsu/nnUNet/src/raw_data/Dataset005_Orbital_ROI/labelsTs/6870292_23_R_FLOOR-3.png\n",
      "予測マスクの値範囲: 0 〜 1\n",
      "正解マスクの値範囲: 0 〜 1\n",
      "Intersection: 6571, Union: 9578\n",
      "予測マスクの陽性ピクセル数: 8510\n",
      "正解マスクの陽性ピクセル数: 7639\n",
      "処理完了: 6870292_23_R_FLOOR-3.png, Dice: 0.8138, IoU: 0.6861, Accuracy: 0.9885, Precision: 0.7722, Recall: 0.8602\n",
      "可視化画像を保存しました: /Users/yuma/Yuma-Kanematsu/nnUNet/src/results/250422_inference_ROI/visualizations/6870292_23_R_FLOOR-3_visualization.png\n",
      "処理中のファイル: 6887036_15_L_FLOOR-3.png\n",
      "元画像: /Users/yuma/Yuma-Kanematsu/nnUNet/src/raw_data/Dataset005_Orbital_ROI/imagesTs/6887036_15_L_FLOOR-3_0000.png\n",
      "予測マスク: /Users/yuma/Yuma-Kanematsu/nnUNet/src/results/250422_inference_ROI/6887036_15_L_FLOOR-3.png\n",
      "正解マスク: /Users/yuma/Yuma-Kanematsu/nnUNet/src/raw_data/Dataset005_Orbital_ROI/labelsTs/6887036_15_L_FLOOR-3.png\n",
      "予測マスクの値範囲: 0 〜 1\n",
      "正解マスクの値範囲: 0 〜 1\n",
      "Intersection: 7507, Union: 10481\n",
      "予測マスクの陽性ピクセル数: 8436\n",
      "正解マスクの陽性ピクセル数: 9552\n",
      "処理完了: 6887036_15_L_FLOOR-3.png, Dice: 0.8347, IoU: 0.7162, Accuracy: 0.9887, Precision: 0.8899, Recall: 0.7859\n",
      "可視化画像を保存しました: /Users/yuma/Yuma-Kanematsu/nnUNet/src/results/250422_inference_ROI/visualizations/6887036_15_L_FLOOR-3_visualization.png\n",
      "処理中のファイル: 6955010_22_R_FLOOR-3.png\n",
      "元画像: /Users/yuma/Yuma-Kanematsu/nnUNet/src/raw_data/Dataset005_Orbital_ROI/imagesTs/6955010_22_R_FLOOR-3_0000.png\n",
      "予測マスク: /Users/yuma/Yuma-Kanematsu/nnUNet/src/results/250422_inference_ROI/6955010_22_R_FLOOR-3.png\n",
      "正解マスク: /Users/yuma/Yuma-Kanematsu/nnUNet/src/raw_data/Dataset005_Orbital_ROI/labelsTs/6955010_22_R_FLOOR-3.png\n",
      "予測マスクの値範囲: 0 〜 1\n",
      "正解マスクの値範囲: 0 〜 1\n",
      "Intersection: 7606, Union: 11028\n",
      "予測マスクの陽性ピクセル数: 9085\n",
      "正解マスクの陽性ピクセル数: 9549\n",
      "処理完了: 6955010_22_R_FLOOR-3.png, Dice: 0.8164, IoU: 0.6897, Accuracy: 0.9869, Precision: 0.8372, Recall: 0.7965\n",
      "可視化画像を保存しました: /Users/yuma/Yuma-Kanematsu/nnUNet/src/results/250422_inference_ROI/visualizations/6955010_22_R_FLOOR-3_visualization.png\n",
      "処理中のファイル: 6955010_18_R_FLOOR-2.png\n",
      "元画像: /Users/yuma/Yuma-Kanematsu/nnUNet/src/raw_data/Dataset005_Orbital_ROI/imagesTs/6955010_18_R_FLOOR-2_0000.png\n",
      "予測マスク: /Users/yuma/Yuma-Kanematsu/nnUNet/src/results/250422_inference_ROI/6955010_18_R_FLOOR-2.png\n",
      "正解マスク: /Users/yuma/Yuma-Kanematsu/nnUNet/src/raw_data/Dataset005_Orbital_ROI/labelsTs/6955010_18_R_FLOOR-2.png\n",
      "予測マスクの値範囲: 0 〜 1\n",
      "正解マスクの値範囲: 0 〜 1\n",
      "Intersection: 7271, Union: 9941\n",
      "予測マスクの陽性ピクセル数: 8089\n",
      "正解マスクの陽性ピクセル数: 9123\n",
      "処理完了: 6955010_18_R_FLOOR-2.png, Dice: 0.8449, IoU: 0.7314, Accuracy: 0.9898, Precision: 0.8989, Recall: 0.7970\n",
      "可視化画像を保存しました: /Users/yuma/Yuma-Kanematsu/nnUNet/src/results/250422_inference_ROI/visualizations/6955010_18_R_FLOOR-2_visualization.png\n",
      "処理中のファイル: 6955010_21_R_FLOOR-3.png\n",
      "元画像: /Users/yuma/Yuma-Kanematsu/nnUNet/src/raw_data/Dataset005_Orbital_ROI/imagesTs/6955010_21_R_FLOOR-3_0000.png\n",
      "予測マスク: /Users/yuma/Yuma-Kanematsu/nnUNet/src/results/250422_inference_ROI/6955010_21_R_FLOOR-3.png\n",
      "正解マスク: /Users/yuma/Yuma-Kanematsu/nnUNet/src/raw_data/Dataset005_Orbital_ROI/labelsTs/6955010_21_R_FLOOR-3.png\n",
      "予測マスクの値範囲: 0 〜 1\n",
      "正解マスクの値範囲: 0 〜 1\n",
      "Intersection: 7864, Union: 10715\n",
      "予測マスクの陽性ピクセル数: 9070\n",
      "正解マスクの陽性ピクセル数: 9509\n",
      "処理完了: 6955010_21_R_FLOOR-3.png, Dice: 0.8465, IoU: 0.7339, Accuracy: 0.9891, Precision: 0.8670, Recall: 0.8270\n",
      "可視化画像を保存しました: /Users/yuma/Yuma-Kanematsu/nnUNet/src/results/250422_inference_ROI/visualizations/6955010_21_R_FLOOR-3_visualization.png\n",
      "処理中のファイル: 6887036_16_L_FLOOR-3.png\n",
      "元画像: /Users/yuma/Yuma-Kanematsu/nnUNet/src/raw_data/Dataset005_Orbital_ROI/imagesTs/6887036_16_L_FLOOR-3_0000.png\n",
      "予測マスク: /Users/yuma/Yuma-Kanematsu/nnUNet/src/results/250422_inference_ROI/6887036_16_L_FLOOR-3.png\n",
      "正解マスク: /Users/yuma/Yuma-Kanematsu/nnUNet/src/raw_data/Dataset005_Orbital_ROI/labelsTs/6887036_16_L_FLOOR-3.png\n",
      "予測マスクの値範囲: 0 〜 1\n",
      "正解マスクの値範囲: 0 〜 1\n",
      "Intersection: 8263, Union: 11138\n",
      "予測マスクの陽性ピクセル数: 8713\n",
      "正解マスクの陽性ピクセル数: 10688\n",
      "処理完了: 6887036_16_L_FLOOR-3.png, Dice: 0.8518, IoU: 0.7419, Accuracy: 0.9890, Precision: 0.9484, Recall: 0.7731\n",
      "可視化画像を保存しました: /Users/yuma/Yuma-Kanematsu/nnUNet/src/results/250422_inference_ROI/visualizations/6887036_16_L_FLOOR-3_visualization.png\n",
      "処理中のファイル: 6887036_12_L_FLOOR-2.png\n",
      "元画像: /Users/yuma/Yuma-Kanematsu/nnUNet/src/raw_data/Dataset005_Orbital_ROI/imagesTs/6887036_12_L_FLOOR-2_0000.png\n",
      "予測マスク: /Users/yuma/Yuma-Kanematsu/nnUNet/src/results/250422_inference_ROI/6887036_12_L_FLOOR-2.png\n",
      "正解マスク: /Users/yuma/Yuma-Kanematsu/nnUNet/src/raw_data/Dataset005_Orbital_ROI/labelsTs/6887036_12_L_FLOOR-2.png\n",
      "予測マスクの値範囲: 0 〜 1\n",
      "正解マスクの値範囲: 0 〜 1\n",
      "Intersection: 4847, Union: 8733\n",
      "予測マスクの陽性ピクセル数: 7670\n",
      "正解マスクの陽性ピクセル数: 5910\n",
      "処理完了: 6887036_12_L_FLOOR-2.png, Dice: 0.7138, IoU: 0.5550, Accuracy: 0.9852, Precision: 0.6319, Recall: 0.8201\n",
      "可視化画像を保存しました: /Users/yuma/Yuma-Kanematsu/nnUNet/src/results/250422_inference_ROI/visualizations/6887036_12_L_FLOOR-2_visualization.png\n",
      "処理中のファイル: 6955010_19_R_FLOOR-3.png\n",
      "元画像: /Users/yuma/Yuma-Kanematsu/nnUNet/src/raw_data/Dataset005_Orbital_ROI/imagesTs/6955010_19_R_FLOOR-3_0000.png\n",
      "予測マスク: /Users/yuma/Yuma-Kanematsu/nnUNet/src/results/250422_inference_ROI/6955010_19_R_FLOOR-3.png\n",
      "正解マスク: /Users/yuma/Yuma-Kanematsu/nnUNet/src/raw_data/Dataset005_Orbital_ROI/labelsTs/6955010_19_R_FLOOR-3.png\n",
      "予測マスクの値範囲: 0 〜 1\n",
      "正解マスクの値範囲: 0 〜 1\n",
      "Intersection: 7123, Union: 10743\n",
      "予測マスクの陽性ピクセル数: 8262\n",
      "正解マスクの陽性ピクセル数: 9604\n",
      "処理完了: 6955010_19_R_FLOOR-3.png, Dice: 0.7974, IoU: 0.6630, Accuracy: 0.9862, Precision: 0.8621, Recall: 0.7417\n",
      "可視化画像を保存しました: /Users/yuma/Yuma-Kanematsu/nnUNet/src/results/250422_inference_ROI/visualizations/6955010_19_R_FLOOR-3_visualization.png\n",
      "処理中のファイル: 6955010_20_R_FLOOR-3.png\n",
      "元画像: /Users/yuma/Yuma-Kanematsu/nnUNet/src/raw_data/Dataset005_Orbital_ROI/imagesTs/6955010_20_R_FLOOR-3_0000.png\n",
      "予測マスク: /Users/yuma/Yuma-Kanematsu/nnUNet/src/results/250422_inference_ROI/6955010_20_R_FLOOR-3.png\n",
      "正解マスク: /Users/yuma/Yuma-Kanematsu/nnUNet/src/raw_data/Dataset005_Orbital_ROI/labelsTs/6955010_20_R_FLOOR-3.png\n",
      "予測マスクの値範囲: 0 〜 1\n",
      "正解マスクの値範囲: 0 〜 1\n",
      "Intersection: 7794, Union: 10968\n",
      "予測マスクの陽性ピクセル数: 8563\n",
      "正解マスクの陽性ピクセル数: 10199\n",
      "処理完了: 6955010_20_R_FLOOR-3.png, Dice: 0.8308, IoU: 0.7106, Accuracy: 0.9879, Precision: 0.9102, Recall: 0.7642\n",
      "可視化画像を保存しました: /Users/yuma/Yuma-Kanematsu/nnUNet/src/results/250422_inference_ROI/visualizations/6955010_20_R_FLOOR-3_visualization.png\n",
      "処理中のファイル: 6955010_24_R_FLOOR-3.png\n",
      "元画像: /Users/yuma/Yuma-Kanematsu/nnUNet/src/raw_data/Dataset005_Orbital_ROI/imagesTs/6955010_24_R_FLOOR-3_0000.png\n",
      "予測マスク: /Users/yuma/Yuma-Kanematsu/nnUNet/src/results/250422_inference_ROI/6955010_24_R_FLOOR-3.png\n",
      "正解マスク: /Users/yuma/Yuma-Kanematsu/nnUNet/src/raw_data/Dataset005_Orbital_ROI/labelsTs/6955010_24_R_FLOOR-3.png\n",
      "予測マスクの値範囲: 0 〜 1\n",
      "正解マスクの値範囲: 0 〜 1\n",
      "Intersection: 6648, Union: 10296\n",
      "予測マスクの陽性ピクセル数: 7691\n",
      "正解マスクの陽性ピクセル数: 9253\n",
      "処理完了: 6955010_24_R_FLOOR-3.png, Dice: 0.7847, IoU: 0.6457, Accuracy: 0.9861, Precision: 0.8644, Recall: 0.7185\n",
      "可視化画像を保存しました: /Users/yuma/Yuma-Kanematsu/nnUNet/src/results/250422_inference_ROI/visualizations/6955010_24_R_FLOOR-3_visualization.png\n",
      "処理中のファイル: 6870292_16_R_FLOOR-2.png\n",
      "元画像: /Users/yuma/Yuma-Kanematsu/nnUNet/src/raw_data/Dataset005_Orbital_ROI/imagesTs/6870292_16_R_FLOOR-2_0000.png\n",
      "予測マスク: /Users/yuma/Yuma-Kanematsu/nnUNet/src/results/250422_inference_ROI/6870292_16_R_FLOOR-2.png\n",
      "正解マスク: /Users/yuma/Yuma-Kanematsu/nnUNet/src/raw_data/Dataset005_Orbital_ROI/labelsTs/6870292_16_R_FLOOR-2.png\n",
      "予測マスクの値範囲: 0 〜 1\n",
      "正解マスクの値範囲: 0 〜 1\n",
      "Intersection: 5874, Union: 8729\n",
      "予測マスクの陽性ピクセル数: 8164\n",
      "正解マスクの陽性ピクセル数: 6439\n",
      "処理完了: 6870292_16_R_FLOOR-2.png, Dice: 0.8045, IoU: 0.6729, Accuracy: 0.9891, Precision: 0.7195, Recall: 0.9123\n",
      "可視化画像を保存しました: /Users/yuma/Yuma-Kanematsu/nnUNet/src/results/250422_inference_ROI/visualizations/6870292_16_R_FLOOR-2_visualization.png\n",
      "処理中のファイル: 6887036_17_L_FLOOR-2.png\n",
      "元画像: /Users/yuma/Yuma-Kanematsu/nnUNet/src/raw_data/Dataset005_Orbital_ROI/imagesTs/6887036_17_L_FLOOR-2_0000.png\n",
      "予測マスク: /Users/yuma/Yuma-Kanematsu/nnUNet/src/results/250422_inference_ROI/6887036_17_L_FLOOR-2.png\n",
      "正解マスク: /Users/yuma/Yuma-Kanematsu/nnUNet/src/raw_data/Dataset005_Orbital_ROI/labelsTs/6887036_17_L_FLOOR-2.png\n",
      "予測マスクの値範囲: 0 〜 1\n",
      "正解マスクの値範囲: 0 〜 1\n",
      "Intersection: 6849, Union: 9656\n",
      "予測マスクの陽性ピクセル数: 8178\n",
      "正解マスクの陽性ピクセル数: 8327\n",
      "処理完了: 6887036_17_L_FLOOR-2.png, Dice: 0.8299, IoU: 0.7093, Accuracy: 0.9893, Precision: 0.8375, Recall: 0.8225\n",
      "可視化画像を保存しました: /Users/yuma/Yuma-Kanematsu/nnUNet/src/results/250422_inference_ROI/visualizations/6887036_17_L_FLOOR-2_visualization.png\n",
      "処理中のファイル: 6887036_13_L_FLOOR-3.png\n",
      "元画像: /Users/yuma/Yuma-Kanematsu/nnUNet/src/raw_data/Dataset005_Orbital_ROI/imagesTs/6887036_13_L_FLOOR-3_0000.png\n",
      "予測マスク: /Users/yuma/Yuma-Kanematsu/nnUNet/src/results/250422_inference_ROI/6887036_13_L_FLOOR-3.png\n",
      "正解マスク: /Users/yuma/Yuma-Kanematsu/nnUNet/src/raw_data/Dataset005_Orbital_ROI/labelsTs/6887036_13_L_FLOOR-3.png\n",
      "予測マスクの値範囲: 0 〜 1\n",
      "正解マスクの値範囲: 0 〜 1\n",
      "Intersection: 8112, Union: 11111\n",
      "予測マスクの陽性ピクセル数: 10041\n",
      "正解マスクの陽性ピクセル数: 9182\n",
      "処理完了: 6887036_13_L_FLOOR-3.png, Dice: 0.8440, IoU: 0.7301, Accuracy: 0.9886, Precision: 0.8079, Recall: 0.8835\n",
      "可視化画像を保存しました: /Users/yuma/Yuma-Kanematsu/nnUNet/src/results/250422_inference_ROI/visualizations/6887036_13_L_FLOOR-3_visualization.png\n",
      "処理中のファイル: 6887036_14_L_FLOOR-3.png\n",
      "元画像: /Users/yuma/Yuma-Kanematsu/nnUNet/src/raw_data/Dataset005_Orbital_ROI/imagesTs/6887036_14_L_FLOOR-3_0000.png\n",
      "予測マスク: /Users/yuma/Yuma-Kanematsu/nnUNet/src/results/250422_inference_ROI/6887036_14_L_FLOOR-3.png\n",
      "正解マスク: /Users/yuma/Yuma-Kanematsu/nnUNet/src/raw_data/Dataset005_Orbital_ROI/labelsTs/6887036_14_L_FLOOR-3.png\n",
      "予測マスクの値範囲: 0 〜 1\n",
      "正解マスクの値範囲: 0 〜 1\n",
      "Intersection: 8335, Union: 10270\n",
      "予測マスクの陽性ピクセル数: 9427\n",
      "正解マスクの陽性ピクセル数: 9178\n",
      "処理完了: 6887036_14_L_FLOOR-3.png, Dice: 0.8960, IoU: 0.8116, Accuracy: 0.9926, Precision: 0.8842, Recall: 0.9081\n",
      "可視化画像を保存しました: /Users/yuma/Yuma-Kanematsu/nnUNet/src/results/250422_inference_ROI/visualizations/6887036_14_L_FLOOR-3_visualization.png\n",
      "処理中のファイル: 6955010_23_R_FLOOR-3.png\n",
      "元画像: /Users/yuma/Yuma-Kanematsu/nnUNet/src/raw_data/Dataset005_Orbital_ROI/imagesTs/6955010_23_R_FLOOR-3_0000.png\n",
      "予測マスク: /Users/yuma/Yuma-Kanematsu/nnUNet/src/results/250422_inference_ROI/6955010_23_R_FLOOR-3.png\n",
      "正解マスク: /Users/yuma/Yuma-Kanematsu/nnUNet/src/raw_data/Dataset005_Orbital_ROI/labelsTs/6955010_23_R_FLOOR-3.png\n",
      "予測マスクの値範囲: 0 〜 1\n",
      "正解マスクの値範囲: 0 〜 1\n",
      "Intersection: 6745, Union: 9830\n",
      "予測マスクの陽性ピクセル数: 8113\n",
      "正解マスクの陽性ピクセル数: 8462\n",
      "処理完了: 6955010_23_R_FLOOR-3.png, Dice: 0.8139, IoU: 0.6862, Accuracy: 0.9882, Precision: 0.8314, Recall: 0.7971\n",
      "可視化画像を保存しました: /Users/yuma/Yuma-Kanematsu/nnUNet/src/results/250422_inference_ROI/visualizations/6955010_23_R_FLOOR-3_visualization.png\n",
      "処理中のファイル: 6870292_22_R_FLOOR-3.png\n",
      "元画像: /Users/yuma/Yuma-Kanematsu/nnUNet/src/raw_data/Dataset005_Orbital_ROI/imagesTs/6870292_22_R_FLOOR-3_0000.png\n",
      "予測マスク: /Users/yuma/Yuma-Kanematsu/nnUNet/src/results/250422_inference_ROI/6870292_22_R_FLOOR-3.png\n",
      "正解マスク: /Users/yuma/Yuma-Kanematsu/nnUNet/src/raw_data/Dataset005_Orbital_ROI/labelsTs/6870292_22_R_FLOOR-3.png\n",
      "予測マスクの値範囲: 0 〜 1\n",
      "正解マスクの値範囲: 0 〜 1\n",
      "Intersection: 7564, Union: 9996\n",
      "予測マスクの陽性ピクセル数: 8973\n",
      "正解マスクの陽性ピクセル数: 8587\n",
      "処理完了: 6870292_22_R_FLOOR-3.png, Dice: 0.8615, IoU: 0.7567, Accuracy: 0.9907, Precision: 0.8430, Recall: 0.8809\n",
      "可視化画像を保存しました: /Users/yuma/Yuma-Kanematsu/nnUNet/src/results/250422_inference_ROI/visualizations/6870292_22_R_FLOOR-3_visualization.png\n",
      "処理中のファイル: 6870292_21_R_FLOOR-3.png\n",
      "元画像: /Users/yuma/Yuma-Kanematsu/nnUNet/src/raw_data/Dataset005_Orbital_ROI/imagesTs/6870292_21_R_FLOOR-3_0000.png\n",
      "予測マスク: /Users/yuma/Yuma-Kanematsu/nnUNet/src/results/250422_inference_ROI/6870292_21_R_FLOOR-3.png\n",
      "正解マスク: /Users/yuma/Yuma-Kanematsu/nnUNet/src/raw_data/Dataset005_Orbital_ROI/labelsTs/6870292_21_R_FLOOR-3.png\n",
      "予測マスクの値範囲: 0 〜 1\n",
      "正解マスクの値範囲: 0 〜 1\n",
      "Intersection: 8261, Union: 10453\n",
      "予測マスクの陽性ピクセル数: 9187\n",
      "正解マスクの陽性ピクセル数: 9527\n",
      "処理完了: 6870292_21_R_FLOOR-3.png, Dice: 0.8829, IoU: 0.7903, Accuracy: 0.9916, Precision: 0.8992, Recall: 0.8671\n",
      "可視化画像を保存しました: /Users/yuma/Yuma-Kanematsu/nnUNet/src/results/250422_inference_ROI/visualizations/6870292_21_R_FLOOR-3_visualization.png\n",
      "評価結果をCSVに保存しました: /Users/yuma/Yuma-Kanematsu/nnUNet/src/results/250422_inference_ROI/evaluation_metrics.csv\n",
      "\n",
      "評価指標の平均値:\n",
      "平均 Dice: 0.8301\n",
      "平均 IoU: 0.7114\n",
      "平均 Accuracy: 0.9889\n",
      "平均 Precision: 0.8352\n",
      "平均 Recall: 0.8333\n",
      "すべての処理が完了しました。\n"
     ]
    }
   ],
   "source": [
    "\n",
    "# 環境変数を設定\n",
    "os.environ['nnUNet_raw'] = '/Users/yuma/Yuma-Kanematsu/nnUNet/src/raw_data'\n",
    "os.environ['nnUNet_results'] = '/Users/yuma/Yuma-Kanematsu/nnUNet/src/results'\n",
    "os.environ['nnUNet_preprocessed'] = '/Users/yuma/Yuma-Kanematsu/nnUNet/src/preprocessed_data' \n",
    "\n",
    "# 画像に関する問題を回避するための設定\n",
    "ImageFile.LOAD_TRUNCATED_IMAGES = True\n",
    "\n",
    "# パスの設定\n",
    "model_folder = '/Users/yuma/Yuma-Kanematsu/nnUNet/src/results/Dataset005_Orbital_ROI/nnUNetTrainer__nnUNetPlans__2d'\n",
    "input_folder = '/Users/yuma/Yuma-Kanematsu/nnUNet/src/raw_data/Dataset005_Orbital_ROI/imagesTs'\n",
    "gt_mask_folder = '/Users/yuma/Yuma-Kanematsu/nnUNet/src/raw_data/Dataset005_Orbital_ROI/labelsTs'  # 正解マスクの場所\n",
    "\n",
    "output_folder = '/Users/yuma/Yuma-Kanematsu/nnUNet/src/results/250422_inference_ROI'\n",
    "csv_output_path = os.path.join(output_folder, 'evaluation_metrics.csv') # 評価結果を保存するCSVファイルのパス\n",
    "visualization_folder = os.path.join(output_folder, 'visualizations') # 可視化画像の保存フォルダ\n",
    "\n",
    "# 可視化フォルダが存在しない場合は作成\n",
    "os.makedirs(visualization_folder, exist_ok=True)\n",
    "\n",
    "# メトリクス計算関数\n",
    "def calculate_metrics(pred_mask, gt_mask):\n",
    "    \"\"\"\n",
    "    予測マスクと正解マスクからDice、IoU、Accuracy、Precision、Recallを計算する関数\n",
    "    \n",
    "    Parameters:\n",
    "    pred_mask (numpy.ndarray): 予測マスク\n",
    "    gt_mask (numpy.ndarray): 正解マスク\n",
    "    \n",
    "    Returns:\n",
    "    tuple: (dice, iou, accuracy, precision, recall, pred_binary, gt_binary)\n",
    "    \"\"\"\n",
    "    # マスクの値を確認し、デバッグ情報を出力\n",
    "    print(f\"予測マスクの値範囲: {np.min(pred_mask)} 〜 {np.max(pred_mask)}\")\n",
    "    print(f\"正解マスクの値範囲: {np.min(gt_mask)} 〜 {np.max(gt_mask)}\")\n",
    "    \n",
    "    # 2値画像に変換\n",
    "    pred_binary = (pred_mask > 0).astype(np.uint8)\n",
    "    gt_binary = (gt_mask > 0).astype(np.uint8)\n",
    "    \n",
    "    # 交差（Intersection）\n",
    "    intersection = np.logical_and(pred_binary, gt_binary).sum()\n",
    "    \n",
    "    # 合併（Union）\n",
    "    union = np.logical_or(pred_binary, gt_binary).sum()\n",
    "    \n",
    "    # デバッグ情報を出力\n",
    "    print(f\"Intersection: {intersection}, Union: {union}\")\n",
    "    print(f\"予測マスクの陽性ピクセル数: {pred_binary.sum()}\")\n",
    "    print(f\"正解マスクの陽性ピクセル数: {gt_binary.sum()}\")\n",
    "    \n",
    "    # Precision（適合率）: TP / (TP + FP)\n",
    "    precision = intersection / (pred_binary.sum() + 1e-10)\n",
    "    \n",
    "    # Recall（再現率）: TP / (TP + FN)\n",
    "    recall = intersection / (gt_binary.sum() + 1e-10)\n",
    "    \n",
    "    # Dice係数\n",
    "    dice = (2.0 * intersection) / (pred_binary.sum() + gt_binary.sum() + 1e-10) # ゼロ除算エラーを防ぐための小さな値（1e-10）を追加\n",
    "    \n",
    "    # IoU（Intersection over Union）\n",
    "    iou = intersection / (union + 1e-10)\n",
    "    \n",
    "    # Accuracy\n",
    "    total_pixels = pred_binary.size\n",
    "    correct_pixels = (pred_binary == gt_binary).sum()\n",
    "    accuracy = correct_pixels / total_pixels\n",
    "    \n",
    "    return dice, iou, accuracy, precision, recall, pred_binary, gt_binary\n",
    "\n",
    "# 可視化関数\n",
    "def create_visualization(original_image_path, pred_mask, gt_mask, output_path, title=\"\"):\n",
    "    \"\"\"\n",
    "    元画像、予測マスク、正解マスクの可視化画像を作成して保存する関数\n",
    "    \n",
    "    Parameters:\n",
    "    original_image_path (str): 元画像のパス\n",
    "    pred_mask (numpy.ndarray): 予測マスク（バイナリ）\n",
    "    gt_mask (numpy.ndarray): 正解マスク（バイナリ）\n",
    "    output_path (str): 保存先のパス\n",
    "    title (str): 画像タイトル\n",
    "    \"\"\"\n",
    "    try:\n",
    "        # 元画像の読み込み\n",
    "        original_img = Image.open(original_image_path)\n",
    "        original_array = np.array(original_img)\n",
    "        \n",
    "        # 予測マスクと正解マスクを255にスケーリング（表示用）\n",
    "        pred_display = pred_mask * 255\n",
    "        gt_display = gt_mask * 255\n",
    "        \n",
    "        # 元画像がグレースケールの場合はRGBに変換\n",
    "        if len(original_array.shape) == 2:\n",
    "            original_rgb = np.stack([original_array, original_array, original_array], axis=2)\n",
    "        else:\n",
    "            original_rgb = original_array.copy()\n",
    "        \n",
    "        # オーバーレイ画像の作成（元画像 + 予測マスク）\n",
    "        overlay_img = original_rgb.copy()\n",
    "        \n",
    "        # 赤色で予測マスクを表示\n",
    "        if len(overlay_img.shape) == 3 and overlay_img.shape[2] >= 3:\n",
    "            overlay_img[pred_mask > 0, 0] = 255  # Red channel\n",
    "            overlay_img[pred_mask > 0, 1] = 0    # Green channel\n",
    "            overlay_img[pred_mask > 0, 2] = 0    # Blue channel\n",
    "        \n",
    "        # 2x2のグリッドで可視化\n",
    "        fig, axes = plt.subplots(2, 2, figsize=(12, 10))\n",
    "        \n",
    "        # 正解マスク\n",
    "        axes[0, 0].imshow(gt_display, cmap='gray')\n",
    "        axes[0, 0].set_title('Ground Truth')\n",
    "        axes[0, 0].axis('off')\n",
    "        \n",
    "        # 予測マスク\n",
    "        axes[0, 1].imshow(pred_display, cmap='gray')\n",
    "        axes[0, 1].set_title('Predicted Mask')\n",
    "        axes[0, 1].axis('off')\n",
    "        \n",
    "        # 元画像\n",
    "        axes[1, 0].imshow(original_array, cmap='gray' if len(original_array.shape) == 2 else None)\n",
    "        axes[1, 0].set_title('Original Image')\n",
    "        axes[1, 0].axis('off')\n",
    "        \n",
    "        # オーバーレイ（元画像 + 予測マスク）\n",
    "        axes[1, 1].imshow(overlay_img)\n",
    "        axes[1, 1].set_title('Original with Predicted Mask')\n",
    "        axes[1, 1].axis('off')\n",
    "        \n",
    "        # タイトルがあれば設定\n",
    "        if title:\n",
    "            fig.suptitle(title, fontsize=16)\n",
    "            \n",
    "        # レイアウト調整と保存\n",
    "        plt.tight_layout()\n",
    "        plt.savefig(output_path, dpi=300, bbox_inches='tight')\n",
    "        plt.close(fig)  # メモリ解放のためにfigureを閉じる\n",
    "        \n",
    "        print(f\"可視化画像を保存しました: {output_path}\")\n",
    "        \n",
    "    except Exception as e:\n",
    "        print(f\"可視化処理エラー: {e}\")\n",
    "        traceback.print_exc()\n",
    "\n",
    "# 推論実行用の関数\n",
    "def run_inference():\n",
    "    \"\"\"\n",
    "    nnUNetを使用して推論を実行する関数\n",
    "    \"\"\"\n",
    "    predictor = nnUNetPredictor(\n",
    "        tile_step_size=0.5,\n",
    "        use_gaussian=True,\n",
    "        use_mirroring=True,\n",
    "        perform_everything_on_device=False,\n",
    "        device=torch.device('mps', 0),\n",
    "        verbose=False,\n",
    "        verbose_preprocessing=False,\n",
    "        allow_tqdm=True\n",
    "    )\n",
    "    \n",
    "    # モデルの初期化\n",
    "    predictor.initialize_from_trained_model_folder(\n",
    "        model_folder,\n",
    "        use_folds=(0,),\n",
    "        checkpoint_name='checkpoint_best.pth',\n",
    "    )\n",
    "    \n",
    "    # 推論を実行\n",
    "    predictor.predict_from_files(\n",
    "        input_folder,\n",
    "        output_folder,\n",
    "        save_probabilities=False, \n",
    "        overwrite=True,\n",
    "        num_processes_preprocessing=1, \n",
    "        num_processes_segmentation_export=1,\n",
    "        folder_with_segs_from_prev_stage=None, \n",
    "        num_parts=1, \n",
    "        part_id=0\n",
    "    )\n",
    "    print(\"推論が完了しました。\")\n",
    "\n",
    "# 評価と可視化実行用の関数\n",
    "def evaluate_and_visualize_results():\n",
    "    \"\"\"\n",
    "    推論結果と正解ラベルを比較して評価指標を計算し、可視化する関数\n",
    "    \"\"\"\n",
    "    # 出力フォルダにあるファイルのリストを取得\n",
    "    prediction_files = [f for f in os.listdir(output_folder) if f.endswith('.png')]\n",
    "    \n",
    "    # 評価結果を保存するリスト\n",
    "    results = []\n",
    "    \n",
    "    for pred_file in prediction_files:\n",
    "        # 推論結果のファイル名（例: 6870292_16_R_FLOOR-2.png）\n",
    "        print(f\"処理中のファイル: {pred_file}\")\n",
    "        \n",
    "        # 元画像のパス（例: .../imagesTs/6870292_16_R_FLOOR-2_0000.png）\n",
    "        # 推論結果は \"_0000\" が削除されているので、元のファイル名に戻す\n",
    "        orig_filename = pred_file.rsplit('.', 1)[0] + \"_0000.png\"\n",
    "        original_image_path = os.path.join(input_folder, orig_filename)\n",
    "        \n",
    "        if not os.path.exists(original_image_path):\n",
    "            print(f\"元画像が見つかりません: {original_image_path}\")\n",
    "            continue\n",
    "        \n",
    "        # 正解マスクのパス（例: .../labelsTs/6870292_16_R_FLOOR-2.png）\n",
    "        # 推論結果と同じファイル名（_0000なし）\n",
    "        gt_mask_path = os.path.join(gt_mask_folder, pred_file)\n",
    "        \n",
    "        if not os.path.exists(gt_mask_path):\n",
    "            print(f\"正解マスクが見つかりません: {gt_mask_path}\")\n",
    "            continue\n",
    "            \n",
    "        print(f\"元画像: {original_image_path}\")\n",
    "        print(f\"予測マスク: {os.path.join(output_folder, pred_file)}\")\n",
    "        print(f\"正解マスク: {gt_mask_path}\")\n",
    "        \n",
    "        # 予測マスクの読み込み\n",
    "        pred_path = os.path.join(output_folder, pred_file)\n",
    "        pred_mask = np.array(Image.open(pred_path))\n",
    "        \n",
    "        # 正解マスクの読み込み\n",
    "        gt_mask = np.array(Image.open(gt_mask_path))\n",
    "        \n",
    "        # サイズが異なる場合はリサイズ\n",
    "        if pred_mask.shape != gt_mask.shape:\n",
    "            print(f\"マスクサイズが異なります。予測: {pred_mask.shape}, 正解: {gt_mask.shape}\")\n",
    "            \n",
    "            # リサイズ処理\n",
    "            gt_mask_pil = Image.fromarray(gt_mask)\n",
    "            gt_mask_pil = gt_mask_pil.resize((pred_mask.shape[1], pred_mask.shape[0]), Image.NEAREST)\n",
    "            gt_mask = np.array(gt_mask_pil)\n",
    "        \n",
    "        # メトリクスの計算\n",
    "        dice, iou, accuracy, precision, recall, pred_binary, gt_binary = calculate_metrics(pred_mask, gt_mask)\n",
    "        \n",
    "        # 患者IDと画像番号の抽出\n",
    "        match = re.search(r'(\\d+)_(\\d+)_', pred_file)\n",
    "        if match:\n",
    "            patient_id = match.group(1)\n",
    "            img_num = match.group(2)\n",
    "        else:\n",
    "            patient_id = \"unknown\"\n",
    "            img_num = \"unknown\"\n",
    "        \n",
    "        # 結果を追加\n",
    "        results.append({\n",
    "            'Patient_ID': patient_id,\n",
    "            'img_num': img_num,\n",
    "            'filename': pred_file,\n",
    "            'IoU': iou,\n",
    "            'Dice': dice,\n",
    "            'Accuracy': accuracy,\n",
    "            'Precision': precision,\n",
    "            'Recall': recall,\n",
    "        })\n",
    "        \n",
    "        print(f\"処理完了: {pred_file}, Dice: {dice:.4f}, IoU: {iou:.4f}, Accuracy: {accuracy:.4f}, Precision: {precision:.4f}, Recall: {recall:.4f}\")\n",
    "        \n",
    "        # 可視化画像の保存パス\n",
    "        vis_filename = f\"{pred_file.rsplit('.', 1)[0]}_visualization.png\"\n",
    "        vis_path = os.path.join(visualization_folder, vis_filename)\n",
    "        \n",
    "        # 可視化を実行\n",
    "        title = f\"Patient: {patient_id}, Image: {img_num}, Dice: {dice:.4f}, IoU: {iou:.4f}\"\n",
    "        create_visualization(original_image_path, pred_binary, gt_binary, vis_path, title)\n",
    "    \n",
    "    # 結果をCSVに出力\n",
    "    if results:\n",
    "        df = pd.DataFrame(results)\n",
    "        df.to_csv(csv_output_path, index=False)\n",
    "        print(f\"評価結果をCSVに保存しました: {csv_output_path}\")\n",
    "        \n",
    "        # 平均値の計算と表示\n",
    "        print(\"\\n評価指標の平均値:\")\n",
    "        print(f\"平均 Dice: {df['Dice'].mean():.4f}\")\n",
    "        print(f\"平均 IoU: {df['IoU'].mean():.4f}\")\n",
    "        print(f\"平均 Accuracy: {df['Accuracy'].mean():.4f}\")\n",
    "        print(f\"平均 Precision: {df['Precision'].mean():.4f}\")\n",
    "        print(f\"平均 Recall: {df['Recall'].mean():.4f}\")\n",
    "    else:\n",
    "        print(\"評価可能な結果がありませんでした。\")\n",
    "\n",
    "# メイン処理\n",
    "if __name__ == \"__main__\":\n",
    "    # 1. 推論の実行\n",
    "    print(\"推論を開始します...\")\n",
    "    run_inference()\n",
    "    \n",
    "    # 2. 評価と可視化の実行\n",
    "    print(\"評価と可視化を開始します...\")\n",
    "    evaluate_and_visualize_results()\n",
    "    \n",
    "    print(\"すべての処理が完了しました。\")"
   ]
  },
  {
   "cell_type": "code",
   "execution_count": 30,
   "metadata": {},
   "outputs": [
    {
     "name": "stdout",
     "output_type": "stream",
     "text": [
      "変換・リサイズ完了: 513982_17_L_FLOOR-1.jpg -> 513982_17_L_FLOOR-1.png (サイズ: (512, 512), グレースケール: True)\n",
      "変換・リサイズ完了: 4515533_11_L_FLOOR-2.jpg -> 4515533_11_L_FLOOR-2.png (サイズ: (512, 512), グレースケール: True)\n",
      "変換・リサイズ完了: 4515533_12_L_FLOOR-2.jpg -> 4515533_12_L_FLOOR-2.png (サイズ: (512, 512), グレースケール: True)\n",
      "変換・リサイズ完了: 513982_14_L_FLOOR-1.jpg -> 513982_14_L_FLOOR-1.png (サイズ: (512, 512), グレースケール: True)\n",
      "変換・リサイズ完了: 513982_23_L_FLOOR-1.jpg -> 513982_23_L_FLOOR-1.png (サイズ: (512, 512), グレースケール: True)\n",
      "変換・リサイズ完了: 513982_27_L_FLOOR-1.jpg -> 513982_27_L_FLOOR-1.png (サイズ: (512, 512), グレースケール: True)\n",
      "変換・リサイズ完了: 513982_20_L_FLOOR-1.jpg -> 513982_20_L_FLOOR-1.png (サイズ: (512, 512), グレースケール: True)\n",
      "変換・リサイズ完了: 513982_19_L_FLOOR-1.jpg -> 513982_19_L_FLOOR-1.png (サイズ: (512, 512), グレースケール: True)\n",
      "変換・リサイズ完了: 513982_24_L_FLOOR-1.jpg -> 513982_24_L_FLOOR-1.png (サイズ: (512, 512), グレースケール: True)\n",
      "変換・リサイズ完了: 513982_25_L_FLOOR-1.jpg -> 513982_25_L_FLOOR-1.png (サイズ: (512, 512), グレースケール: True)\n",
      "変換・リサイズ完了: 513982_18_L_FLOOR-1.jpg -> 513982_18_L_FLOOR-1.png (サイズ: (512, 512), グレースケール: True)\n",
      "変換・リサイズ完了: 513982_21_L_FLOOR-1.jpg -> 513982_21_L_FLOOR-1.png (サイズ: (512, 512), グレースケール: True)\n",
      "変換・リサイズ完了: 513982_26_L_FLOOR-1.jpg -> 513982_26_L_FLOOR-1.png (サイズ: (512, 512), グレースケール: True)\n",
      "変換・リサイズ完了: 513982_22_L_FLOOR-1.jpg -> 513982_22_L_FLOOR-1.png (サイズ: (512, 512), グレースケール: True)\n",
      "変換・リサイズ完了: 4515533_13_L_FLOOR-2.jpg -> 4515533_13_L_FLOOR-2.png (サイズ: (512, 512), グレースケール: True)\n",
      "変換・リサイズ完了: 513982_15_L_FLOOR-1.jpg -> 513982_15_L_FLOOR-1.png (サイズ: (512, 512), グレースケール: True)\n",
      "変換・リサイズ完了: 513982_16_L_FLOOR-1.jpg -> 513982_16_L_FLOOR-1.png (サイズ: (512, 512), グレースケール: True)\n",
      "変換・リサイズ完了: 4515533_14_L_FLOOR-2.jpg -> 4515533_14_L_FLOOR-2.png (サイズ: (512, 512), グレースケール: True)\n",
      "変換・リサイズ完了: 4515533_10_L_FLOOR-2.jpg -> 4515533_10_L_FLOOR-2.png (サイズ: (512, 512), グレースケール: True)\n",
      "リネーム完了: 513982_17_L_FLOOR-1.png -> 513982_17_L_FLOOR-1_0000.png\n",
      "リネーム完了: 4515533_11_L_FLOOR-2.png -> 4515533_11_L_FLOOR-2_0000.png\n",
      "リネーム完了: 4515533_12_L_FLOOR-2.png -> 4515533_12_L_FLOOR-2_0000.png\n",
      "リネーム完了: 513982_14_L_FLOOR-1.png -> 513982_14_L_FLOOR-1_0000.png\n",
      "リネーム完了: 513982_23_L_FLOOR-1.png -> 513982_23_L_FLOOR-1_0000.png\n",
      "リネーム完了: 513982_27_L_FLOOR-1.png -> 513982_27_L_FLOOR-1_0000.png\n",
      "リネーム完了: 513982_20_L_FLOOR-1.png -> 513982_20_L_FLOOR-1_0000.png\n",
      "リネーム完了: 513982_19_L_FLOOR-1.png -> 513982_19_L_FLOOR-1_0000.png\n",
      "リネーム完了: 513982_24_L_FLOOR-1.png -> 513982_24_L_FLOOR-1_0000.png\n",
      "リネーム完了: 513982_25_L_FLOOR-1.png -> 513982_25_L_FLOOR-1_0000.png\n",
      "リネーム完了: 513982_18_L_FLOOR-1.png -> 513982_18_L_FLOOR-1_0000.png\n",
      "リネーム完了: 513982_21_L_FLOOR-1.png -> 513982_21_L_FLOOR-1_0000.png\n",
      "リネーム完了: 513982_26_L_FLOOR-1.png -> 513982_26_L_FLOOR-1_0000.png\n",
      "リネーム完了: 513982_22_L_FLOOR-1.png -> 513982_22_L_FLOOR-1_0000.png\n",
      "リネーム完了: 4515533_13_L_FLOOR-2.png -> 4515533_13_L_FLOOR-2_0000.png\n",
      "リネーム完了: 513982_15_L_FLOOR-1.png -> 513982_15_L_FLOOR-1_0000.png\n",
      "リネーム完了: 513982_16_L_FLOOR-1.png -> 513982_16_L_FLOOR-1_0000.png\n",
      "リネーム完了: 4515533_14_L_FLOOR-2.png -> 4515533_14_L_FLOOR-2_0000.png\n",
      "リネーム完了: 4515533_10_L_FLOOR-2.png -> 4515533_10_L_FLOOR-2_0000.png\n"
     ]
    }
   ],
   "source": [
    "\n",
    "input_jpg_folder = '/Users/yuma/Yuma-Kanematsu/nnUNet/src/raw_data/Dataset002_ForTest_segmenetation/imagesTs_noLabel'\n",
    "output_png_folder = '/Users/yuma/Yuma-Kanematsu/nnUNet/src/raw_data/Dataset002_ForTest_segmenetation/imagesTs_noLabel_png'\n",
    "os.makedirs(output_png_folder, exist_ok=True)\n",
    "\n",
    "# JPGからPNGに変換する関数\n",
    "def convert_jpg_to_png(input_folder, output_folder, target_size=(512, 512), to_grayscale=True):\n",
    "    \"\"\"\n",
    "    JPG画像をPNG形式に変換し、オプションでグレースケールに変換・リサイズする関数\n",
    "    \n",
    "    Parameters:\n",
    "    input_folder (str): 入力フォルダのパス\n",
    "    output_folder (str): 出力フォルダのパス\n",
    "    target_size (tuple): リサイズ後のサイズ (width, height)\n",
    "    to_grayscale (bool): グレースケールに変換するかどうか\n",
    "    \"\"\"\n",
    "    # 入力フォルダ内のJPGファイルを取得\n",
    "    jpg_files = [f for f in os.listdir(input_folder) if f.endswith('.jpg')]\n",
    "    \n",
    "    for jpg_file in jpg_files:\n",
    "        # JPGファイルのフルパスを作成\n",
    "        jpg_path = os.path.join(input_folder, jpg_file)\n",
    "        \n",
    "        # 画像を開く\n",
    "        img = Image.open(jpg_path)\n",
    "        \n",
    "        # グレースケールに変換（オプション）\n",
    "        if to_grayscale:\n",
    "            img = img.convert('L')\n",
    "        \n",
    "        # 画像をリサイズ\n",
    "        img_resized = img.resize(target_size, Image.Resampling.LANCZOS)\n",
    "        \n",
    "        # PNG形式で保存\n",
    "        png_file = jpg_file.replace('.jpg', '.png')\n",
    "        png_path = os.path.join(output_folder, png_file)\n",
    "        img_resized.save(png_path, 'PNG')\n",
    "        \n",
    "        print(f\"変換・リサイズ完了: {jpg_file} -> {png_file} (サイズ: {target_size}, グレースケール: {to_grayscale})\")\n",
    "\n",
    "# PNGの末尾に\"_0000\"を追加する関数\n",
    "def rename_png_files(folder):\n",
    "    \"\"\"\n",
    "    PNGファイルの末尾に\"_0000\"を追加する関数\n",
    "    \n",
    "    Parameters:\n",
    "    folder (str): フォルダのパス\n",
    "    \"\"\"\n",
    "    png_files = [f for f in os.listdir(folder) if f.endswith('.png')]\n",
    "    \n",
    "    for png_file in png_files:\n",
    "        new_name = png_file.replace('.png', '_0000.png')\n",
    "        os.rename(os.path.join(folder, png_file), os.path.join(folder, new_name))\n",
    "        print(f\"リネーム完了: {png_file} -> {new_name}\")\n",
    "\n",
    "# JPGからPNGに変換\n",
    "convert_jpg_to_png(input_jpg_folder, output_png_folder)\n",
    "# PNGの末尾に\"_0000\"を追加\n",
    "rename_png_files(output_png_folder)\n"
   ]
  },
  {
   "cell_type": "code",
   "execution_count": 47,
   "metadata": {},
   "outputs": [
    {
     "name": "stdout",
     "output_type": "stream",
     "text": [
      "推論を開始します...\n",
      "perform_everything_on_device=True is only supported for cuda devices! Setting this to False\n",
      "There are 19 cases in the source folder\n",
      "I am process 0 out of 1 (max process ID is 0, we start counting with 0!)\n",
      "There are 19 cases that I would like to predict\n",
      "\n",
      "Predicting 4515533_10_L_FLOOR-2:\n",
      "perform_everything_on_device: False\n"
     ]
    },
    {
     "name": "stderr",
     "output_type": "stream",
     "text": [
      "100%|██████████| 2/2 [00:00<00:00,  7.50it/s]\n"
     ]
    },
    {
     "name": "stdout",
     "output_type": "stream",
     "text": [
      "sending off prediction to background worker for resampling and export\n",
      "done with 4515533_10_L_FLOOR-2\n",
      "\n",
      "Predicting 4515533_11_L_FLOOR-2:\n",
      "perform_everything_on_device: False\n"
     ]
    },
    {
     "name": "stderr",
     "output_type": "stream",
     "text": [
      "100%|██████████| 2/2 [00:00<00:00,  8.98it/s]\n"
     ]
    },
    {
     "name": "stdout",
     "output_type": "stream",
     "text": [
      "sending off prediction to background worker for resampling and export\n",
      "done with 4515533_11_L_FLOOR-2\n",
      "\n",
      "Predicting 4515533_12_L_FLOOR-2:\n",
      "perform_everything_on_device: False\n"
     ]
    },
    {
     "name": "stderr",
     "output_type": "stream",
     "text": [
      "100%|██████████| 2/2 [00:00<00:00,  8.77it/s]\n"
     ]
    },
    {
     "name": "stdout",
     "output_type": "stream",
     "text": [
      "sending off prediction to background worker for resampling and export\n",
      "done with 4515533_12_L_FLOOR-2\n",
      "\n",
      "Predicting 4515533_13_L_FLOOR-2:\n",
      "perform_everything_on_device: False\n"
     ]
    },
    {
     "name": "stderr",
     "output_type": "stream",
     "text": [
      "100%|██████████| 2/2 [00:00<00:00,  8.43it/s]\n"
     ]
    },
    {
     "name": "stdout",
     "output_type": "stream",
     "text": [
      "sending off prediction to background worker for resampling and export\n",
      "done with 4515533_13_L_FLOOR-2\n",
      "\n",
      "Predicting 4515533_14_L_FLOOR-2:\n",
      "perform_everything_on_device: False\n"
     ]
    },
    {
     "name": "stderr",
     "output_type": "stream",
     "text": [
      "100%|██████████| 2/2 [00:00<00:00,  9.01it/s]\n"
     ]
    },
    {
     "name": "stdout",
     "output_type": "stream",
     "text": [
      "sending off prediction to background worker for resampling and export\n",
      "done with 4515533_14_L_FLOOR-2\n",
      "\n",
      "Predicting 513982_14_L_FLOOR-1:\n",
      "perform_everything_on_device: False\n"
     ]
    },
    {
     "name": "stderr",
     "output_type": "stream",
     "text": [
      "100%|██████████| 1/1 [00:00<00:00,  9.02it/s]\n"
     ]
    },
    {
     "name": "stdout",
     "output_type": "stream",
     "text": [
      "sending off prediction to background worker for resampling and export\n",
      "done with 513982_14_L_FLOOR-1\n",
      "\n",
      "Predicting 513982_15_L_FLOOR-1:\n",
      "perform_everything_on_device: False\n"
     ]
    },
    {
     "name": "stderr",
     "output_type": "stream",
     "text": [
      "100%|██████████| 1/1 [00:00<00:00,  8.98it/s]\n"
     ]
    },
    {
     "name": "stdout",
     "output_type": "stream",
     "text": [
      "sending off prediction to background worker for resampling and export\n",
      "done with 513982_15_L_FLOOR-1\n",
      "\n",
      "Predicting 513982_16_L_FLOOR-1:\n",
      "perform_everything_on_device: False\n"
     ]
    },
    {
     "name": "stderr",
     "output_type": "stream",
     "text": [
      "100%|██████████| 1/1 [00:00<00:00,  8.89it/s]\n"
     ]
    },
    {
     "name": "stdout",
     "output_type": "stream",
     "text": [
      "sending off prediction to background worker for resampling and export\n",
      "done with 513982_16_L_FLOOR-1\n",
      "\n",
      "Predicting 513982_17_L_FLOOR-1:\n",
      "perform_everything_on_device: False\n"
     ]
    },
    {
     "name": "stderr",
     "output_type": "stream",
     "text": [
      "100%|██████████| 1/1 [00:00<00:00,  8.69it/s]\n"
     ]
    },
    {
     "name": "stdout",
     "output_type": "stream",
     "text": [
      "sending off prediction to background worker for resampling and export\n",
      "done with 513982_17_L_FLOOR-1\n",
      "\n",
      "Predicting 513982_18_L_FLOOR-1:\n",
      "perform_everything_on_device: False\n"
     ]
    },
    {
     "name": "stderr",
     "output_type": "stream",
     "text": [
      "100%|██████████| 1/1 [00:00<00:00,  8.93it/s]\n"
     ]
    },
    {
     "name": "stdout",
     "output_type": "stream",
     "text": [
      "sending off prediction to background worker for resampling and export\n",
      "done with 513982_18_L_FLOOR-1\n",
      "\n",
      "Predicting 513982_19_L_FLOOR-1:\n",
      "perform_everything_on_device: False\n"
     ]
    },
    {
     "name": "stderr",
     "output_type": "stream",
     "text": [
      "100%|██████████| 1/1 [00:00<00:00,  8.88it/s]\n"
     ]
    },
    {
     "name": "stdout",
     "output_type": "stream",
     "text": [
      "sending off prediction to background worker for resampling and export\n",
      "done with 513982_19_L_FLOOR-1\n",
      "\n",
      "Predicting 513982_20_L_FLOOR-1:\n",
      "perform_everything_on_device: False\n"
     ]
    },
    {
     "name": "stderr",
     "output_type": "stream",
     "text": [
      "100%|██████████| 1/1 [00:00<00:00,  8.71it/s]\n"
     ]
    },
    {
     "name": "stdout",
     "output_type": "stream",
     "text": [
      "sending off prediction to background worker for resampling and export\n",
      "done with 513982_20_L_FLOOR-1\n",
      "\n",
      "Predicting 513982_21_L_FLOOR-1:\n",
      "perform_everything_on_device: False\n"
     ]
    },
    {
     "name": "stderr",
     "output_type": "stream",
     "text": [
      "100%|██████████| 1/1 [00:00<00:00,  9.00it/s]\n"
     ]
    },
    {
     "name": "stdout",
     "output_type": "stream",
     "text": [
      "sending off prediction to background worker for resampling and export\n",
      "done with 513982_21_L_FLOOR-1\n",
      "\n",
      "Predicting 513982_22_L_FLOOR-1:\n",
      "perform_everything_on_device: False\n"
     ]
    },
    {
     "name": "stderr",
     "output_type": "stream",
     "text": [
      "100%|██████████| 1/1 [00:00<00:00,  8.86it/s]\n"
     ]
    },
    {
     "name": "stdout",
     "output_type": "stream",
     "text": [
      "sending off prediction to background worker for resampling and export\n",
      "done with 513982_22_L_FLOOR-1\n",
      "\n",
      "Predicting 513982_23_L_FLOOR-1:\n",
      "perform_everything_on_device: False\n"
     ]
    },
    {
     "name": "stderr",
     "output_type": "stream",
     "text": [
      "100%|██████████| 1/1 [00:00<00:00,  8.50it/s]\n"
     ]
    },
    {
     "name": "stdout",
     "output_type": "stream",
     "text": [
      "sending off prediction to background worker for resampling and export\n",
      "done with 513982_23_L_FLOOR-1\n",
      "\n",
      "Predicting 513982_24_L_FLOOR-1:\n",
      "perform_everything_on_device: False\n"
     ]
    },
    {
     "name": "stderr",
     "output_type": "stream",
     "text": [
      "100%|██████████| 1/1 [00:00<00:00,  8.97it/s]\n"
     ]
    },
    {
     "name": "stdout",
     "output_type": "stream",
     "text": [
      "sending off prediction to background worker for resampling and export\n",
      "done with 513982_24_L_FLOOR-1\n",
      "\n",
      "Predicting 513982_25_L_FLOOR-1:\n",
      "perform_everything_on_device: False\n"
     ]
    },
    {
     "name": "stderr",
     "output_type": "stream",
     "text": [
      "100%|██████████| 1/1 [00:00<00:00,  8.95it/s]\n"
     ]
    },
    {
     "name": "stdout",
     "output_type": "stream",
     "text": [
      "sending off prediction to background worker for resampling and export\n",
      "done with 513982_25_L_FLOOR-1\n",
      "\n",
      "Predicting 513982_26_L_FLOOR-1:\n",
      "perform_everything_on_device: False\n"
     ]
    },
    {
     "name": "stderr",
     "output_type": "stream",
     "text": [
      "100%|██████████| 1/1 [00:00<00:00,  8.68it/s]\n"
     ]
    },
    {
     "name": "stdout",
     "output_type": "stream",
     "text": [
      "sending off prediction to background worker for resampling and export\n",
      "done with 513982_26_L_FLOOR-1\n",
      "\n",
      "Predicting 513982_27_L_FLOOR-1:\n",
      "perform_everything_on_device: False\n"
     ]
    },
    {
     "name": "stderr",
     "output_type": "stream",
     "text": [
      "100%|██████████| 1/1 [00:00<00:00,  8.92it/s]\n"
     ]
    },
    {
     "name": "stdout",
     "output_type": "stream",
     "text": [
      "sending off prediction to background worker for resampling and export\n",
      "done with 513982_27_L_FLOOR-1\n",
      "推論が完了しました。\n",
      "可視化を開始します...\n",
      "元画像が見つかりません: /Users/yuma/Yuma-Kanematsu/nnUNet/src/raw_data/Dataset002_ForTest_segmenetation/imagesTs_noLabel_png/513982_17_L_FLOOR-1.png\n",
      "代替の元画像が見つかりました: 513982_17_L_FLOOR-1_0000.png\n",
      "可視化画像を保存しました: /Users/yuma/Yuma-Kanematsu/nnUNet/src/results/250419_inference_results_NO/visualizations/513982_17_L_FLOOR-1_visualization.png\n",
      "元画像が見つかりません: /Users/yuma/Yuma-Kanematsu/nnUNet/src/raw_data/Dataset002_ForTest_segmenetation/imagesTs_noLabel_png/4515533_11_L_FLOOR-2.png\n",
      "代替の元画像が見つかりました: 4515533_11_L_FLOOR-2_0000.png\n",
      "可視化画像を保存しました: /Users/yuma/Yuma-Kanematsu/nnUNet/src/results/250419_inference_results_NO/visualizations/4515533_11_L_FLOOR-2_visualization.png\n",
      "元画像が見つかりません: /Users/yuma/Yuma-Kanematsu/nnUNet/src/raw_data/Dataset002_ForTest_segmenetation/imagesTs_noLabel_png/4515533_12_L_FLOOR-2.png\n",
      "代替の元画像が見つかりました: 4515533_12_L_FLOOR-2_0000.png\n",
      "可視化画像を保存しました: /Users/yuma/Yuma-Kanematsu/nnUNet/src/results/250419_inference_results_NO/visualizations/4515533_12_L_FLOOR-2_visualization.png\n",
      "元画像が見つかりません: /Users/yuma/Yuma-Kanematsu/nnUNet/src/raw_data/Dataset002_ForTest_segmenetation/imagesTs_noLabel_png/513982_14_L_FLOOR-1.png\n",
      "代替の元画像が見つかりました: 513982_14_L_FLOOR-1_0000.png\n",
      "可視化画像を保存しました: /Users/yuma/Yuma-Kanematsu/nnUNet/src/results/250419_inference_results_NO/visualizations/513982_14_L_FLOOR-1_visualization.png\n",
      "元画像が見つかりません: /Users/yuma/Yuma-Kanematsu/nnUNet/src/raw_data/Dataset002_ForTest_segmenetation/imagesTs_noLabel_png/513982_23_L_FLOOR-1.png\n",
      "代替の元画像が見つかりました: 513982_23_L_FLOOR-1_0000.png\n",
      "可視化画像を保存しました: /Users/yuma/Yuma-Kanematsu/nnUNet/src/results/250419_inference_results_NO/visualizations/513982_23_L_FLOOR-1_visualization.png\n",
      "元画像が見つかりません: /Users/yuma/Yuma-Kanematsu/nnUNet/src/raw_data/Dataset002_ForTest_segmenetation/imagesTs_noLabel_png/513982_27_L_FLOOR-1.png\n",
      "代替の元画像が見つかりました: 513982_27_L_FLOOR-1_0000.png\n",
      "可視化画像を保存しました: /Users/yuma/Yuma-Kanematsu/nnUNet/src/results/250419_inference_results_NO/visualizations/513982_27_L_FLOOR-1_visualization.png\n",
      "元画像が見つかりません: /Users/yuma/Yuma-Kanematsu/nnUNet/src/raw_data/Dataset002_ForTest_segmenetation/imagesTs_noLabel_png/513982_20_L_FLOOR-1.png\n",
      "代替の元画像が見つかりました: 513982_20_L_FLOOR-1_0000.png\n",
      "可視化画像を保存しました: /Users/yuma/Yuma-Kanematsu/nnUNet/src/results/250419_inference_results_NO/visualizations/513982_20_L_FLOOR-1_visualization.png\n",
      "元画像が見つかりません: /Users/yuma/Yuma-Kanematsu/nnUNet/src/raw_data/Dataset002_ForTest_segmenetation/imagesTs_noLabel_png/513982_19_L_FLOOR-1.png\n",
      "代替の元画像が見つかりました: 513982_19_L_FLOOR-1_0000.png\n",
      "可視化画像を保存しました: /Users/yuma/Yuma-Kanematsu/nnUNet/src/results/250419_inference_results_NO/visualizations/513982_19_L_FLOOR-1_visualization.png\n",
      "元画像が見つかりません: /Users/yuma/Yuma-Kanematsu/nnUNet/src/raw_data/Dataset002_ForTest_segmenetation/imagesTs_noLabel_png/513982_24_L_FLOOR-1.png\n",
      "代替の元画像が見つかりました: 513982_24_L_FLOOR-1_0000.png\n",
      "可視化画像を保存しました: /Users/yuma/Yuma-Kanematsu/nnUNet/src/results/250419_inference_results_NO/visualizations/513982_24_L_FLOOR-1_visualization.png\n",
      "元画像が見つかりません: /Users/yuma/Yuma-Kanematsu/nnUNet/src/raw_data/Dataset002_ForTest_segmenetation/imagesTs_noLabel_png/513982_25_L_FLOOR-1.png\n",
      "代替の元画像が見つかりました: 513982_25_L_FLOOR-1_0000.png\n",
      "可視化画像を保存しました: /Users/yuma/Yuma-Kanematsu/nnUNet/src/results/250419_inference_results_NO/visualizations/513982_25_L_FLOOR-1_visualization.png\n",
      "元画像が見つかりません: /Users/yuma/Yuma-Kanematsu/nnUNet/src/raw_data/Dataset002_ForTest_segmenetation/imagesTs_noLabel_png/513982_18_L_FLOOR-1.png\n",
      "代替の元画像が見つかりました: 513982_18_L_FLOOR-1_0000.png\n",
      "可視化画像を保存しました: /Users/yuma/Yuma-Kanematsu/nnUNet/src/results/250419_inference_results_NO/visualizations/513982_18_L_FLOOR-1_visualization.png\n",
      "元画像が見つかりません: /Users/yuma/Yuma-Kanematsu/nnUNet/src/raw_data/Dataset002_ForTest_segmenetation/imagesTs_noLabel_png/513982_21_L_FLOOR-1.png\n",
      "代替の元画像が見つかりました: 513982_21_L_FLOOR-1_0000.png\n",
      "可視化画像を保存しました: /Users/yuma/Yuma-Kanematsu/nnUNet/src/results/250419_inference_results_NO/visualizations/513982_21_L_FLOOR-1_visualization.png\n",
      "元画像が見つかりません: /Users/yuma/Yuma-Kanematsu/nnUNet/src/raw_data/Dataset002_ForTest_segmenetation/imagesTs_noLabel_png/513982_26_L_FLOOR-1.png\n",
      "代替の元画像が見つかりました: 513982_26_L_FLOOR-1_0000.png\n",
      "可視化画像を保存しました: /Users/yuma/Yuma-Kanematsu/nnUNet/src/results/250419_inference_results_NO/visualizations/513982_26_L_FLOOR-1_visualization.png\n",
      "元画像が見つかりません: /Users/yuma/Yuma-Kanematsu/nnUNet/src/raw_data/Dataset002_ForTest_segmenetation/imagesTs_noLabel_png/513982_22_L_FLOOR-1.png\n",
      "代替の元画像が見つかりました: 513982_22_L_FLOOR-1_0000.png\n",
      "可視化画像を保存しました: /Users/yuma/Yuma-Kanematsu/nnUNet/src/results/250419_inference_results_NO/visualizations/513982_22_L_FLOOR-1_visualization.png\n",
      "元画像が見つかりません: /Users/yuma/Yuma-Kanematsu/nnUNet/src/raw_data/Dataset002_ForTest_segmenetation/imagesTs_noLabel_png/4515533_13_L_FLOOR-2.png\n",
      "代替の元画像が見つかりました: 4515533_13_L_FLOOR-2_0000.png\n",
      "可視化画像を保存しました: /Users/yuma/Yuma-Kanematsu/nnUNet/src/results/250419_inference_results_NO/visualizations/4515533_13_L_FLOOR-2_visualization.png\n",
      "元画像が見つかりません: /Users/yuma/Yuma-Kanematsu/nnUNet/src/raw_data/Dataset002_ForTest_segmenetation/imagesTs_noLabel_png/513982_15_L_FLOOR-1.png\n",
      "代替の元画像が見つかりました: 513982_15_L_FLOOR-1_0000.png\n",
      "可視化画像を保存しました: /Users/yuma/Yuma-Kanematsu/nnUNet/src/results/250419_inference_results_NO/visualizations/513982_15_L_FLOOR-1_visualization.png\n",
      "元画像が見つかりません: /Users/yuma/Yuma-Kanematsu/nnUNet/src/raw_data/Dataset002_ForTest_segmenetation/imagesTs_noLabel_png/513982_16_L_FLOOR-1.png\n",
      "代替の元画像が見つかりました: 513982_16_L_FLOOR-1_0000.png\n",
      "可視化画像を保存しました: /Users/yuma/Yuma-Kanematsu/nnUNet/src/results/250419_inference_results_NO/visualizations/513982_16_L_FLOOR-1_visualization.png\n",
      "元画像が見つかりません: /Users/yuma/Yuma-Kanematsu/nnUNet/src/raw_data/Dataset002_ForTest_segmenetation/imagesTs_noLabel_png/4515533_14_L_FLOOR-2.png\n",
      "代替の元画像が見つかりました: 4515533_14_L_FLOOR-2_0000.png\n",
      "可視化画像を保存しました: /Users/yuma/Yuma-Kanematsu/nnUNet/src/results/250419_inference_results_NO/visualizations/4515533_14_L_FLOOR-2_visualization.png\n",
      "元画像が見つかりません: /Users/yuma/Yuma-Kanematsu/nnUNet/src/raw_data/Dataset002_ForTest_segmenetation/imagesTs_noLabel_png/4515533_10_L_FLOOR-2.png\n",
      "代替の元画像が見つかりました: 4515533_10_L_FLOOR-2_0000.png\n",
      "可視化画像を保存しました: /Users/yuma/Yuma-Kanematsu/nnUNet/src/results/250419_inference_results_NO/visualizations/4515533_10_L_FLOOR-2_visualization.png\n",
      "すべての可視化が完了しました。結果は /Users/yuma/Yuma-Kanematsu/nnUNet/src/results/250419_inference_results_NO/visualizations に保存されています。\n",
      "すべての処理が完了しました。\n"
     ]
    }
   ],
   "source": [
    "# 環境変数を設定\n",
    "import os\n",
    "import re\n",
    "import numpy as np\n",
    "import torch\n",
    "import matplotlib.pyplot as plt\n",
    "from PIL import Image, ImageFile\n",
    "\n",
    "# 画像に関する問題を回避するための設定\n",
    "ImageFile.LOAD_TRUNCATED_IMAGES = True\n",
    "\n",
    "# パスの設定\n",
    "model_folder = '/Users/yuma/Yuma-Kanematsu/nnUNet/src/results/Dataset004_Orbital_same_testdata/nnUNetTrainer__nnUNetPlans__2d'\n",
    "input_folder = '/Users/yuma/Yuma-Kanematsu/nnUNet/src/raw_data/Dataset002_ForTest_segmenetation/imagesTs_noLabel_png'\n",
    "\n",
    "output_folder = '/Users/yuma/Yuma-Kanematsu/nnUNet/src/results/250419_inference_results_NO'\n",
    "visualization_folder = os.path.join(output_folder, 'visualizations') # 可視化画像の保存フォルダ\n",
    "\n",
    "# 出力フォルダと可視化フォルダが存在しない場合は作成\n",
    "os.makedirs(output_folder, exist_ok=True)\n",
    "os.makedirs(visualization_folder, exist_ok=True)\n",
    "\n",
    "# ファイル名から患者IDと画像番号を抽出する関数\n",
    "def extract_patient_info(filename):\n",
    "    \"\"\"\n",
    "    ファイル名から患者IDと画像番号を抽出する関数\n",
    "    \n",
    "    Parameters:\n",
    "    filename (str): ファイル名\n",
    "    \n",
    "    Returns:\n",
    "    tuple: (patient_id, img_num, side, floor)\n",
    "    \"\"\"\n",
    "    # 正規表現でパターンを抽出\n",
    "    pattern = r'(\\d+)_(\\d+)_([RL])_FLOOR-(\\d+)'\n",
    "    match = re.search(pattern, filename)\n",
    "    if match:\n",
    "        patient_id = match.group(1)\n",
    "        img_num = match.group(2)\n",
    "        side = match.group(3)\n",
    "        floor = match.group(4)\n",
    "        return patient_id, img_num, side, floor\n",
    "    else:\n",
    "        return None, None, None, None\n",
    "\n",
    "# 可視化関数（正解ラベルなしバージョン）\n",
    "def create_visualization_no_gt(original_image_path, pred_mask, output_path, title=\"\"):\n",
    "    \"\"\"\n",
    "    元画像、予測マスク、オーバーレイの可視化画像を作成して保存する関数（正解ラベルなし）\n",
    "    \n",
    "    Parameters:\n",
    "    original_image_path (str): 元画像のパス\n",
    "    pred_mask (numpy.ndarray): 予測マスク（バイナリ）\n",
    "    output_path (str): 保存先のパス\n",
    "    title (str): 画像タイトル\n",
    "    \"\"\"\n",
    "    try:\n",
    "        # 元画像の読み込み\n",
    "        original_img = Image.open(original_image_path)\n",
    "        original_array = np.array(original_img)\n",
    "        \n",
    "        # 予測マスクを255にスケーリング（表示用）\n",
    "        pred_display = pred_mask * 255\n",
    "        \n",
    "        # 元画像がグレースケールの場合はRGBに変換\n",
    "        if len(original_array.shape) == 2:\n",
    "            original_rgb = np.stack([original_array, original_array, original_array], axis=2)\n",
    "        elif len(original_array.shape) == 3 and original_array.shape[2] == 4:  # RGBA\n",
    "            original_rgb = original_array[:, :, :3]  # アルファチャンネルを除去\n",
    "        else:\n",
    "            original_rgb = original_array.copy()\n",
    "        \n",
    "        # オーバーレイ画像の作成（元画像 + 予測マスク）\n",
    "        overlay_img = original_rgb.copy()\n",
    "        \n",
    "        # 赤色で予測マスクを表示\n",
    "        if len(overlay_img.shape) == 3 and overlay_img.shape[2] >= 3:\n",
    "            overlay_img[pred_mask > 0, 0] = 255  # Red channel\n",
    "            overlay_img[pred_mask > 0, 1] = 0    # Green channel\n",
    "            overlay_img[pred_mask > 0, 2] = 0    # Blue channel\n",
    "        \n",
    "        # 1x3のグリッドで可視化（正解ラベルなし）\n",
    "        fig, axes = plt.subplots(1, 3, figsize=(15, 5))\n",
    "        \n",
    "        # 元画像\n",
    "        axes[0].imshow(original_array, cmap='gray' if len(original_array.shape) == 2 else None)\n",
    "        axes[0].set_title('Original Image')\n",
    "        axes[0].axis('off')\n",
    "        \n",
    "        # 予測マスク\n",
    "        axes[1].imshow(pred_display, cmap='gray')\n",
    "        axes[1].set_title('Predicted Mask')\n",
    "        axes[1].axis('off')\n",
    "        \n",
    "        # オーバーレイ（元画像 + 予測マスク）\n",
    "        axes[2].imshow(overlay_img)\n",
    "        axes[2].set_title('Original with Predicted Mask')\n",
    "        axes[2].axis('off')\n",
    "        \n",
    "        # タイトルがあれば設定\n",
    "        if title:\n",
    "            fig.suptitle(title, fontsize=16)\n",
    "            \n",
    "        # レイアウト調整と保存\n",
    "        plt.tight_layout()\n",
    "        plt.savefig(output_path, dpi=300, bbox_inches='tight')\n",
    "        plt.close(fig)  # メモリ解放のためにfigureを閉じる\n",
    "        \n",
    "        print(f\"可視化画像を保存しました: {output_path}\")\n",
    "        \n",
    "    except Exception as e:\n",
    "        print(f\"可視化処理エラー: {e}\")\n",
    "        import traceback\n",
    "        traceback.print_exc()\n",
    "\n",
    "# 1. 推論の実行\n",
    "def run_inference():\n",
    "    \"\"\"\n",
    "    nnUNetを使用して推論を実行する関数\n",
    "    \"\"\"\n",
    "    predictor = nnUNetPredictor(\n",
    "        tile_step_size=0.5,\n",
    "        use_gaussian=True,\n",
    "        use_mirroring=True,\n",
    "        perform_everything_on_device=False,\n",
    "        device=torch.device('mps', 0),\n",
    "        verbose=False,\n",
    "        verbose_preprocessing=False,\n",
    "        allow_tqdm=True\n",
    "    )\n",
    "    \n",
    "    # モデルの初期化\n",
    "    predictor.initialize_from_trained_model_folder(\n",
    "        model_folder,\n",
    "        use_folds=(0,),\n",
    "        checkpoint_name='checkpoint_best.pth',\n",
    "    )\n",
    "    \n",
    "    # 推論を実行\n",
    "    predictor.predict_from_files(\n",
    "        input_folder,\n",
    "        output_folder,\n",
    "        save_probabilities=False, \n",
    "        overwrite=True,\n",
    "        num_processes_preprocessing=1, \n",
    "        num_processes_segmentation_export=1,\n",
    "        folder_with_segs_from_prev_stage=None, \n",
    "        num_parts=1, \n",
    "        part_id=0\n",
    "    )\n",
    "    print(\"推論が完了しました。\")\n",
    "\n",
    "# 2. 可視化の実行（正解ラベルなし）\n",
    "def visualize_results():\n",
    "    \"\"\"\n",
    "    推論結果を可視化する関数（正解ラベルなし）\n",
    "    \"\"\"\n",
    "    # 出力フォルダにあるセグメンテーション結果ファイルのリストを取得\n",
    "    prediction_files = [f for f in os.listdir(output_folder) if f.endswith('.png') or f.endswith('.nii.gz')]\n",
    "    \n",
    "    for pred_file in prediction_files:\n",
    "        # ファイル名から拡張子を除去\n",
    "        file_base = os.path.splitext(pred_file)[0]\n",
    "        if file_base.endswith('.nii'):  # .nii.gzの場合\n",
    "            file_base = os.path.splitext(file_base)[0]\n",
    "        \n",
    "        # 患者情報を抽出\n",
    "        patient_id, img_num, side, floor = extract_patient_info(file_base)\n",
    "        \n",
    "        if patient_id is None:\n",
    "            print(f\"ファイル名からの情報抽出に失敗: {pred_file}\")\n",
    "            continue\n",
    "        \n",
    "        # 元画像のパスを作成\n",
    "        original_image_filename = f\"{patient_id}_{img_num}_{side}_FLOOR-{floor}.png\"\n",
    "        original_image_path = os.path.join(input_folder, original_image_filename)\n",
    "        \n",
    "        if not os.path.exists(original_image_path):\n",
    "            print(f\"元画像が見つかりません: {original_image_path}\")\n",
    "            # 一致する画像を検索\n",
    "            matching_files = [f for f in os.listdir(input_folder) if f.startswith(f\"{patient_id}_{img_num}_{side}\")]\n",
    "            if matching_files:\n",
    "                original_image_path = os.path.join(input_folder, matching_files[0])\n",
    "                print(f\"代替の元画像が見つかりました: {matching_files[0]}\")\n",
    "            else:\n",
    "                continue\n",
    "        \n",
    "        # 予測マスクの読み込み\n",
    "        pred_path = os.path.join(output_folder, pred_file)\n",
    "        \n",
    "        # ファイル拡張子に応じた処理\n",
    "        if pred_file.endswith('.png'):\n",
    "            pred_mask = np.array(Image.open(pred_path))\n",
    "        else:\n",
    "            # .nii.gzの場合はここで適切な処理を行う\n",
    "            # 例：SimpleITKなどを使用\n",
    "            print(f\"非PNG形式のファイルはスキップします: {pred_file}\")\n",
    "            continue\n",
    "        \n",
    "        # 2値画像に変換\n",
    "        pred_binary = (pred_mask > 0).astype(np.uint8)\n",
    "        \n",
    "        # 可視化画像の保存パス\n",
    "        vis_filename = f\"{patient_id}_{img_num}_{side}_FLOOR-{floor}_visualization.png\"\n",
    "        vis_path = os.path.join(visualization_folder, vis_filename)\n",
    "        \n",
    "        # 可視化を実行（正解ラベルなし）\n",
    "        title = f\"Patient: {patient_id}, Image: {img_num}, Side: {side}, Floor: {floor}\"\n",
    "        create_visualization_no_gt(original_image_path, pred_binary, vis_path, title)\n",
    "    \n",
    "    print(f\"すべての可視化が完了しました。結果は {visualization_folder} に保存されています。\")\n",
    "\n",
    "# メイン処理\n",
    "if __name__ == \"__main__\":\n",
    "    # 1. 推論の実行\n",
    "    print(\"推論を開始します...\")\n",
    "    run_inference()\n",
    "    \n",
    "    # 2. 可視化の実行（正解ラベルなし）\n",
    "    print(\"可視化を開始します...\")\n",
    "    visualize_results()\n",
    "    \n",
    "    print(\"すべての処理が完了しました。\")"
   ]
  }
 ],
 "metadata": {
  "kernelspec": {
   "display_name": ".venv",
   "language": "python",
   "name": "python3"
  },
  "language_info": {
   "codemirror_mode": {
    "name": "ipython",
    "version": 3
   },
   "file_extension": ".py",
   "mimetype": "text/x-python",
   "name": "python",
   "nbconvert_exporter": "python",
   "pygments_lexer": "ipython3",
   "version": "3.10.14"
  }
 },
 "nbformat": 4,
 "nbformat_minor": 2
}
